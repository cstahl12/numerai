{
 "cells": [
  {
   "cell_type": "code",
   "execution_count": 1,
   "metadata": {
    "collapsed": false,
    "deletable": true,
    "editable": true
   },
   "outputs": [],
   "source": [
    "from __future__ import print_function\n",
    "import numpy as np\n",
    "import pandas as pd\n",
    "import matplotlib.pyplot as plt\n",
    "%matplotlib inline"
   ]
  },
  {
   "cell_type": "code",
   "execution_count": 64,
   "metadata": {
    "collapsed": false,
    "deletable": true,
    "editable": true
   },
   "outputs": [],
   "source": [
    "from keras.models import Sequential\n",
    "from keras.optimizers import SGD, Adam\n",
    "from keras.layers import Dense, Dropout, Activation\n",
    "from keras.callbacks import EarlyStopping\n",
    "from keras.constraints import maxnorm\n",
    "from keras.utils import np_utils"
   ]
  },
  {
   "cell_type": "code",
   "execution_count": 65,
   "metadata": {
    "collapsed": true,
    "deletable": true,
    "editable": true
   },
   "outputs": [],
   "source": [
    "from sklearn.cluster import KMeans"
   ]
  },
  {
   "cell_type": "code",
   "execution_count": 70,
   "metadata": {
    "collapsed": true,
    "deletable": true,
    "editable": true
   },
   "outputs": [],
   "source": [
    "train = pd.read_csv('ntrain.csv')\n",
    "X_train = train.drop('target', axis=1)\n",
    "y_train = train['target']\n",
    "y_train = pd.get_dummies(y_train)"
   ]
  },
  {
   "cell_type": "code",
   "execution_count": 79,
   "metadata": {
    "collapsed": false,
    "deletable": true,
    "editable": true
   },
   "outputs": [],
   "source": [
    "def build_model():\n",
    "    model = Sequential()\n",
    "    \n",
    "    model.add(Dense(input_dim=51, output_dim=512, init='normal'))\n",
    "    model.add(Activation('relu'))\n",
    "    model.add(Dropout(.10))\n",
    "    \n",
    "    for i in range(0, 16):\n",
    "        model.add(Dense(1024, init='normal'))\n",
    "        model.add(Activation('relu'))\n",
    "        model.add(Dropout(.10))\n",
    "    \n",
    "    model.add(Dense(output_dim=2, init='normal'))\n",
    "    model.add(Activation('softmax'))\n",
    "    \n",
    "    optim = Adam(lr=0.0001, beta_1=0.9, beta_2=0.999, epsilon=1e-08, decay=0.0)\n",
    "\n",
    "    model.compile(loss='categorical_crossentropy', metrics=['accuracy'], optimizer=optim)\n",
    "    \n",
    "    return(model)"
   ]
  },
  {
   "cell_type": "code",
   "execution_count": 80,
   "metadata": {
    "collapsed": false,
    "deletable": true,
    "editable": true
   },
   "outputs": [],
   "source": [
    "model = build_model()"
   ]
  },
  {
   "cell_type": "code",
   "execution_count": 74,
   "metadata": {
    "collapsed": false
   },
   "outputs": [],
   "source": [
    "kmeans = KMeans(n_clusters=10).fit(X_train.values)\n",
    "X_train['cluster'] = kmeans.labels_"
   ]
  },
  {
   "cell_type": "code",
   "execution_count": 75,
   "metadata": {
    "collapsed": false
   },
   "outputs": [
    {
     "data": {
      "text/html": [
       "<div>\n",
       "<table border=\"1\" class=\"dataframe\">\n",
       "  <thead>\n",
       "    <tr style=\"text-align: right;\">\n",
       "      <th></th>\n",
       "      <th>feature1</th>\n",
       "      <th>feature2</th>\n",
       "      <th>feature3</th>\n",
       "      <th>feature4</th>\n",
       "      <th>feature5</th>\n",
       "      <th>feature6</th>\n",
       "      <th>feature7</th>\n",
       "      <th>feature8</th>\n",
       "      <th>feature9</th>\n",
       "      <th>feature10</th>\n",
       "      <th>...</th>\n",
       "      <th>feature42</th>\n",
       "      <th>feature43</th>\n",
       "      <th>feature44</th>\n",
       "      <th>feature45</th>\n",
       "      <th>feature46</th>\n",
       "      <th>feature47</th>\n",
       "      <th>feature48</th>\n",
       "      <th>feature49</th>\n",
       "      <th>feature50</th>\n",
       "      <th>cluster</th>\n",
       "    </tr>\n",
       "  </thead>\n",
       "  <tbody>\n",
       "    <tr>\n",
       "      <th>0</th>\n",
       "      <td>0.298295</td>\n",
       "      <td>0.590668</td>\n",
       "      <td>0.710308</td>\n",
       "      <td>0.593777</td>\n",
       "      <td>0.654382</td>\n",
       "      <td>0.737973</td>\n",
       "      <td>0.338155</td>\n",
       "      <td>0.612782</td>\n",
       "      <td>0.364180</td>\n",
       "      <td>0.539625</td>\n",
       "      <td>...</td>\n",
       "      <td>0.359835</td>\n",
       "      <td>0.264163</td>\n",
       "      <td>0.566727</td>\n",
       "      <td>0.679851</td>\n",
       "      <td>0.485877</td>\n",
       "      <td>0.649007</td>\n",
       "      <td>0.451214</td>\n",
       "      <td>0.753195</td>\n",
       "      <td>0.503099</td>\n",
       "      <td>5</td>\n",
       "    </tr>\n",
       "    <tr>\n",
       "      <th>1</th>\n",
       "      <td>0.246636</td>\n",
       "      <td>0.256348</td>\n",
       "      <td>0.481008</td>\n",
       "      <td>0.522878</td>\n",
       "      <td>0.559398</td>\n",
       "      <td>0.412853</td>\n",
       "      <td>0.420271</td>\n",
       "      <td>0.644242</td>\n",
       "      <td>0.204365</td>\n",
       "      <td>0.463714</td>\n",
       "      <td>...</td>\n",
       "      <td>0.563404</td>\n",
       "      <td>0.712611</td>\n",
       "      <td>0.363641</td>\n",
       "      <td>0.684906</td>\n",
       "      <td>0.478391</td>\n",
       "      <td>0.412147</td>\n",
       "      <td>0.387372</td>\n",
       "      <td>0.232860</td>\n",
       "      <td>0.521463</td>\n",
       "      <td>2</td>\n",
       "    </tr>\n",
       "    <tr>\n",
       "      <th>2</th>\n",
       "      <td>0.614052</td>\n",
       "      <td>0.283110</td>\n",
       "      <td>0.377075</td>\n",
       "      <td>0.322318</td>\n",
       "      <td>0.577315</td>\n",
       "      <td>0.395441</td>\n",
       "      <td>0.508077</td>\n",
       "      <td>0.638552</td>\n",
       "      <td>0.402667</td>\n",
       "      <td>0.602424</td>\n",
       "      <td>...</td>\n",
       "      <td>0.549626</td>\n",
       "      <td>0.382534</td>\n",
       "      <td>0.194832</td>\n",
       "      <td>0.545327</td>\n",
       "      <td>0.706747</td>\n",
       "      <td>0.536792</td>\n",
       "      <td>0.415773</td>\n",
       "      <td>0.350660</td>\n",
       "      <td>0.457177</td>\n",
       "      <td>7</td>\n",
       "    </tr>\n",
       "    <tr>\n",
       "      <th>3</th>\n",
       "      <td>0.498020</td>\n",
       "      <td>0.652958</td>\n",
       "      <td>0.513329</td>\n",
       "      <td>0.310274</td>\n",
       "      <td>0.272216</td>\n",
       "      <td>0.556517</td>\n",
       "      <td>0.414643</td>\n",
       "      <td>0.508278</td>\n",
       "      <td>0.560960</td>\n",
       "      <td>0.342141</td>\n",
       "      <td>...</td>\n",
       "      <td>0.474071</td>\n",
       "      <td>0.612397</td>\n",
       "      <td>0.525800</td>\n",
       "      <td>0.260547</td>\n",
       "      <td>0.516413</td>\n",
       "      <td>0.489979</td>\n",
       "      <td>0.416072</td>\n",
       "      <td>0.179659</td>\n",
       "      <td>0.371790</td>\n",
       "      <td>3</td>\n",
       "    </tr>\n",
       "    <tr>\n",
       "      <th>4</th>\n",
       "      <td>0.293388</td>\n",
       "      <td>0.492028</td>\n",
       "      <td>0.524065</td>\n",
       "      <td>0.707898</td>\n",
       "      <td>0.642097</td>\n",
       "      <td>0.594946</td>\n",
       "      <td>0.430042</td>\n",
       "      <td>0.496973</td>\n",
       "      <td>0.362412</td>\n",
       "      <td>0.500920</td>\n",
       "      <td>...</td>\n",
       "      <td>0.447303</td>\n",
       "      <td>0.400248</td>\n",
       "      <td>0.775230</td>\n",
       "      <td>0.636218</td>\n",
       "      <td>0.495646</td>\n",
       "      <td>0.474609</td>\n",
       "      <td>0.598847</td>\n",
       "      <td>0.747557</td>\n",
       "      <td>0.498411</td>\n",
       "      <td>5</td>\n",
       "    </tr>\n",
       "  </tbody>\n",
       "</table>\n",
       "<p>5 rows × 51 columns</p>\n",
       "</div>"
      ],
      "text/plain": [
       "   feature1  feature2  feature3  feature4  feature5  feature6  feature7  \\\n",
       "0  0.298295  0.590668  0.710308  0.593777  0.654382  0.737973  0.338155   \n",
       "1  0.246636  0.256348  0.481008  0.522878  0.559398  0.412853  0.420271   \n",
       "2  0.614052  0.283110  0.377075  0.322318  0.577315  0.395441  0.508077   \n",
       "3  0.498020  0.652958  0.513329  0.310274  0.272216  0.556517  0.414643   \n",
       "4  0.293388  0.492028  0.524065  0.707898  0.642097  0.594946  0.430042   \n",
       "\n",
       "   feature8  feature9  feature10   ...     feature42  feature43  feature44  \\\n",
       "0  0.612782  0.364180   0.539625   ...      0.359835   0.264163   0.566727   \n",
       "1  0.644242  0.204365   0.463714   ...      0.563404   0.712611   0.363641   \n",
       "2  0.638552  0.402667   0.602424   ...      0.549626   0.382534   0.194832   \n",
       "3  0.508278  0.560960   0.342141   ...      0.474071   0.612397   0.525800   \n",
       "4  0.496973  0.362412   0.500920   ...      0.447303   0.400248   0.775230   \n",
       "\n",
       "   feature45  feature46  feature47  feature48  feature49  feature50  cluster  \n",
       "0   0.679851   0.485877   0.649007   0.451214   0.753195   0.503099        5  \n",
       "1   0.684906   0.478391   0.412147   0.387372   0.232860   0.521463        2  \n",
       "2   0.545327   0.706747   0.536792   0.415773   0.350660   0.457177        7  \n",
       "3   0.260547   0.516413   0.489979   0.416072   0.179659   0.371790        3  \n",
       "4   0.636218   0.495646   0.474609   0.598847   0.747557   0.498411        5  \n",
       "\n",
       "[5 rows x 51 columns]"
      ]
     },
     "execution_count": 75,
     "metadata": {},
     "output_type": "execute_result"
    }
   ],
   "source": [
    "X_train.head()"
   ]
  },
  {
   "cell_type": "code",
   "execution_count": 81,
   "metadata": {
    "collapsed": false,
    "deletable": true,
    "editable": true,
    "scrolled": false
   },
   "outputs": [
    {
     "name": "stdout",
     "output_type": "stream",
     "text": [
      "Train on 130383 samples, validate on 43461 samples\n",
      "Epoch 1/20\n",
      "25s - loss: 0.7206 - acc: 0.5006 - val_loss: 0.6931 - val_acc: 0.5013\n",
      "Epoch 2/20\n",
      "24s - loss: 0.6964 - acc: 0.5010 - val_loss: 0.6947 - val_acc: 0.5001\n",
      "Epoch 3/20\n",
      "24s - loss: 0.6949 - acc: 0.4975 - val_loss: 0.6934 - val_acc: 0.5001\n",
      "Epoch 4/20\n",
      "24s - loss: 0.6942 - acc: 0.4983 - val_loss: 0.6934 - val_acc: 0.5001\n",
      "Epoch 5/20\n",
      "24s - loss: 0.6939 - acc: 0.5011 - val_loss: 0.6932 - val_acc: 0.5013\n",
      "Epoch 6/20\n",
      "24s - loss: 0.6936 - acc: 0.4994 - val_loss: 0.6935 - val_acc: 0.4999\n",
      "Epoch 7/20\n",
      "24s - loss: 0.6936 - acc: 0.5004 - val_loss: 0.6931 - val_acc: 0.5020\n",
      "Epoch 8/20\n",
      "24s - loss: 0.6936 - acc: 0.4977 - val_loss: 0.6933 - val_acc: 0.4999\n",
      "Epoch 9/20\n",
      "24s - loss: 0.6934 - acc: 0.4994 - val_loss: 0.6934 - val_acc: 0.5001\n",
      "Epoch 10/20\n",
      "24s - loss: 0.6933 - acc: 0.5008 - val_loss: 0.6932 - val_acc: 0.4999\n",
      "Epoch 11/20\n",
      "24s - loss: 0.6934 - acc: 0.4990 - val_loss: 0.6933 - val_acc: 0.4999\n",
      "Epoch 12/20\n",
      "24s - loss: 0.6933 - acc: 0.5009 - val_loss: 0.6931 - val_acc: 0.5001\n",
      "Epoch 13/20\n",
      "24s - loss: 0.6933 - acc: 0.5026 - val_loss: 0.6931 - val_acc: 0.5001\n",
      "Epoch 14/20\n",
      "24s - loss: 0.6932 - acc: 0.4998 - val_loss: 0.6932 - val_acc: 0.5001\n",
      "Epoch 15/20\n",
      "24s - loss: 0.6933 - acc: 0.4997 - val_loss: 0.6933 - val_acc: 0.4999\n",
      "Epoch 16/20\n",
      "24s - loss: 0.6932 - acc: 0.5000 - val_loss: 0.6932 - val_acc: 0.4999\n",
      "Epoch 17/20\n",
      "24s - loss: 0.6932 - acc: 0.5027 - val_loss: 0.6932 - val_acc: 0.4999\n",
      "Epoch 18/20\n",
      "24s - loss: 0.6932 - acc: 0.4998 - val_loss: 0.6931 - val_acc: 0.5057\n",
      "Epoch 19/20\n",
      "24s - loss: 0.6932 - acc: 0.5027 - val_loss: 0.6934 - val_acc: 0.4999\n",
      "Epoch 20/20\n",
      "24s - loss: 0.6932 - acc: 0.5022 - val_loss: 0.6932 - val_acc: 0.4999\n"
     ]
    }
   ],
   "source": [
    "history = model.fit(X_train.values, y_train.values, nb_epoch=20, batch_size=256, verbose=2, validation_split=0.25)"
   ]
  },
  {
   "cell_type": "code",
   "execution_count": 55,
   "metadata": {
    "collapsed": false,
    "deletable": true,
    "editable": true,
    "scrolled": true
   },
   "outputs": [
    {
     "data": {
      "image/png": "[encoded data removed]",
      "text/plain": [
       "<matplotlib.figure.Figure at 0x7f5ab680e320>"
      ]
     },
     "metadata": {},
     "output_type": "display_data"
    }
   ],
   "source": [
    "# summarize history for loss\n",
    "plt.plot(history.history['loss'])\n",
    "plt.plot(history.history['val_loss'])\n",
    "plt.title('model loss')\n",
    "plt.ylabel('loss')\n",
    "plt.xlabel('epoch')\n",
    "plt.legend(['train', 'test'], loc='best')\n",
    "plt.ylim(0.689,0.695)\n",
    "plt.show()"
   ]
  },
  {
   "cell_type": "code",
   "execution_count": 56,
   "metadata": {
    "collapsed": false,
    "deletable": true,
    "editable": true
   },
   "outputs": [
    {
     "data": {
      "text/plain": [
       "(264865, 51)"
      ]
     },
     "execution_count": 56,
     "metadata": {},
     "output_type": "execute_result"
    }
   ],
   "source": [
    "submit_data = pd.read_csv('ntest.csv')\n",
    "submit_data.shape"
   ]
  },
  {
   "cell_type": "code",
   "execution_count": 57,
   "metadata": {
    "collapsed": false,
    "deletable": true,
    "editable": true
   },
   "outputs": [],
   "source": [
    "submission = pd.DataFrame()\n",
    "submission['t_id'] = submit_data['t_id']"
   ]
  },
  {
   "cell_type": "code",
   "execution_count": 58,
   "metadata": {
    "collapsed": false,
    "deletable": true,
    "editable": true
   },
   "outputs": [],
   "source": [
    "X_pred = submit_data.drop('t_id', axis=1)"
   ]
  },
  {
   "cell_type": "code",
   "execution_count": 59,
   "metadata": {
    "collapsed": false,
    "deletable": true,
    "editable": true
   },
   "outputs": [
    {
     "data": {
      "text/plain": [
       "(264865, 50)"
      ]
     },
     "execution_count": 59,
     "metadata": {},
     "output_type": "execute_result"
    }
   ],
   "source": [
    "X_pred.shape"
   ]
  },
  {
   "cell_type": "code",
   "execution_count": 60,
   "metadata": {
    "collapsed": false,
    "deletable": true,
    "editable": true
   },
   "outputs": [],
   "source": [
    "prob = model.predict(X_pred.values)"
   ]
  },
  {
   "cell_type": "code",
   "execution_count": 61,
   "metadata": {
    "collapsed": false,
    "deletable": true,
    "editable": true
   },
   "outputs": [],
   "source": [
    "submission['probability'] = pd.DataFrame(prob[:,1])"
   ]
  },
  {
   "cell_type": "code",
   "execution_count": 62,
   "metadata": {
    "collapsed": false,
    "deletable": true,
    "editable": true
   },
   "outputs": [
    {
     "data": {
      "text/html": [
       "<div>\n",
       "<table border=\"1\" class=\"dataframe\">\n",
       "  <thead>\n",
       "    <tr style=\"text-align: right;\">\n",
       "      <th></th>\n",
       "      <th>t_id</th>\n",
       "      <th>probability</th>\n",
       "    </tr>\n",
       "  </thead>\n",
       "  <tbody>\n",
       "    <tr>\n",
       "      <th>count</th>\n",
       "      <td>264865.000000</td>\n",
       "      <td>264865.000000</td>\n",
       "    </tr>\n",
       "    <tr>\n",
       "      <th>mean</th>\n",
       "      <td>132432.000000</td>\n",
       "      <td>0.503054</td>\n",
       "    </tr>\n",
       "    <tr>\n",
       "      <th>std</th>\n",
       "      <td>76460.083862</td>\n",
       "      <td>0.009111</td>\n",
       "    </tr>\n",
       "    <tr>\n",
       "      <th>min</th>\n",
       "      <td>0.000000</td>\n",
       "      <td>0.491431</td>\n",
       "    </tr>\n",
       "    <tr>\n",
       "      <th>25%</th>\n",
       "      <td>66216.000000</td>\n",
       "      <td>0.498303</td>\n",
       "    </tr>\n",
       "    <tr>\n",
       "      <th>50%</th>\n",
       "      <td>132432.000000</td>\n",
       "      <td>0.498698</td>\n",
       "    </tr>\n",
       "    <tr>\n",
       "      <th>75%</th>\n",
       "      <td>198648.000000</td>\n",
       "      <td>0.503846</td>\n",
       "    </tr>\n",
       "    <tr>\n",
       "      <th>max</th>\n",
       "      <td>264864.000000</td>\n",
       "      <td>0.571247</td>\n",
       "    </tr>\n",
       "  </tbody>\n",
       "</table>\n",
       "</div>"
      ],
      "text/plain": [
       "                t_id    probability\n",
       "count  264865.000000  264865.000000\n",
       "mean   132432.000000       0.503054\n",
       "std     76460.083862       0.009111\n",
       "min         0.000000       0.491431\n",
       "25%     66216.000000       0.498303\n",
       "50%    132432.000000       0.498698\n",
       "75%    198648.000000       0.503846\n",
       "max    264864.000000       0.571247"
      ]
     },
     "execution_count": 62,
     "metadata": {},
     "output_type": "execute_result"
    }
   ],
   "source": [
    "submission.describe()"
   ]
  },
  {
   "cell_type": "code",
   "execution_count": 63,
   "metadata": {
    "collapsed": false,
    "deletable": true,
    "editable": true
   },
   "outputs": [],
   "source": [
    "submission.to_csv('sub_2.csv', index=False)"
   ]
  },
  {
   "cell_type": "code",
   "execution_count": null,
   "metadata": {
    "collapsed": true,
    "deletable": true,
    "editable": true
   },
   "outputs": [],
   "source": []
  }
 ],
 "metadata": {
  "hide_input": false,
  "kernelspec": {
   "display_name": "Python 3",
   "language": "python",
   "name": "python3"
  },
  "language_info": {
   "codemirror_mode": {
    "name": "ipython",
    "version": 3
   },
   "file_extension": ".py",
   "mimetype": "text/x-python",
   "name": "python",
   "nbconvert_exporter": "python",
   "pygments_lexer": "ipython3",
   "version": "3.4.3"
  }
 },
 "nbformat": 4,
 "nbformat_minor": 2
}
