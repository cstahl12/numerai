{
 "cells": [
  {
   "cell_type": "markdown",
   "metadata": {
    "deletable": true,
    "editable": true
   },
   "source": [
    "## Load Environments"
   ]
  },
  {
   "cell_type": "code",
   "execution_count": 1,
   "metadata": {
    "collapsed": true,
    "deletable": true,
    "editable": true
   },
   "outputs": [],
   "source": [
    "import numpy as np\n",
    "import pandas as pd\n",
    "import matplotlib.pyplot as plt\n",
    "from math import log"
   ]
  },
  {
   "cell_type": "code",
   "execution_count": 2,
   "metadata": {
    "collapsed": false,
    "deletable": true,
    "editable": true
   },
   "outputs": [],
   "source": [
    "from sklearn.preprocessing import LabelEncoder\n",
    "from sklearn.decomposition import PCA\n",
    "from sklearn.metrics import log_loss\n",
    "from sklearn.model_selection import GridSearchCV, LeaveOneGroupOut"
   ]
  },
  {
   "cell_type": "code",
   "execution_count": 3,
   "metadata": {
    "collapsed": true,
    "deletable": true,
    "editable": true
   },
   "outputs": [],
   "source": [
    "from sklearn.ensemble import RandomForestClassifier, GradientBoostingClassifier\n",
    "from sklearn.svm import SVC\n",
    "from sklearn.linear_model import SGDClassifier\n",
    "from sklearn.tree import DecisionTreeClassifier\n",
    "from sklearn.neighbors import KNeighborsClassifier"
   ]
  },
  {
   "cell_type": "markdown",
   "metadata": {
    "deletable": true,
    "editable": true
   },
   "source": [
    "## Read in raw data sets, training, tournament (val, test, live)"
   ]
  },
  {
   "cell_type": "code",
   "execution_count": 4,
   "metadata": {
    "collapsed": false,
    "deletable": true,
    "editable": true
   },
   "outputs": [],
   "source": [
    "raw_train = pd.read_csv('data/train_62.csv', index_col=0)\n",
    "raw_test = pd.read_csv('data/test_62.csv', index_col=0)"
   ]
  },
  {
   "cell_type": "code",
   "execution_count": 5,
   "metadata": {
    "collapsed": false,
    "deletable": true,
    "editable": true
   },
   "outputs": [
    {
     "data": {
      "text/html": [
       "<div>\n",
       "<table border=\"1\" class=\"dataframe\">\n",
       "  <thead>\n",
       "    <tr style=\"text-align: right;\">\n",
       "      <th></th>\n",
       "      <th>era</th>\n",
       "      <th>data_type</th>\n",
       "      <th>feature1</th>\n",
       "      <th>feature2</th>\n",
       "      <th>feature3</th>\n",
       "      <th>feature4</th>\n",
       "      <th>feature5</th>\n",
       "      <th>feature6</th>\n",
       "      <th>feature7</th>\n",
       "      <th>feature8</th>\n",
       "      <th>...</th>\n",
       "      <th>feature13</th>\n",
       "      <th>feature14</th>\n",
       "      <th>feature15</th>\n",
       "      <th>feature16</th>\n",
       "      <th>feature17</th>\n",
       "      <th>feature18</th>\n",
       "      <th>feature19</th>\n",
       "      <th>feature20</th>\n",
       "      <th>feature21</th>\n",
       "      <th>target</th>\n",
       "    </tr>\n",
       "    <tr>\n",
       "      <th>id</th>\n",
       "      <th></th>\n",
       "      <th></th>\n",
       "      <th></th>\n",
       "      <th></th>\n",
       "      <th></th>\n",
       "      <th></th>\n",
       "      <th></th>\n",
       "      <th></th>\n",
       "      <th></th>\n",
       "      <th></th>\n",
       "      <th></th>\n",
       "      <th></th>\n",
       "      <th></th>\n",
       "      <th></th>\n",
       "      <th></th>\n",
       "      <th></th>\n",
       "      <th></th>\n",
       "      <th></th>\n",
       "      <th></th>\n",
       "      <th></th>\n",
       "      <th></th>\n",
       "    </tr>\n",
       "  </thead>\n",
       "  <tbody>\n",
       "    <tr>\n",
       "      <th>30869</th>\n",
       "      <td>era1</td>\n",
       "      <td>train</td>\n",
       "      <td>0.80581</td>\n",
       "      <td>0.59023</td>\n",
       "      <td>0.33846</td>\n",
       "      <td>0.66893</td>\n",
       "      <td>0.60931</td>\n",
       "      <td>0.44031</td>\n",
       "      <td>0.54041</td>\n",
       "      <td>0.19611</td>\n",
       "      <td>...</td>\n",
       "      <td>0.71156</td>\n",
       "      <td>0.44718</td>\n",
       "      <td>0.49803</td>\n",
       "      <td>0.65204</td>\n",
       "      <td>0.29910</td>\n",
       "      <td>0.33321</td>\n",
       "      <td>0.62169</td>\n",
       "      <td>0.30362</td>\n",
       "      <td>0.40045</td>\n",
       "      <td>1</td>\n",
       "    </tr>\n",
       "    <tr>\n",
       "      <th>153709</th>\n",
       "      <td>era1</td>\n",
       "      <td>train</td>\n",
       "      <td>0.54412</td>\n",
       "      <td>0.49768</td>\n",
       "      <td>0.63767</td>\n",
       "      <td>0.45867</td>\n",
       "      <td>0.34125</td>\n",
       "      <td>0.51880</td>\n",
       "      <td>0.66379</td>\n",
       "      <td>0.39711</td>\n",
       "      <td>...</td>\n",
       "      <td>0.41867</td>\n",
       "      <td>0.69744</td>\n",
       "      <td>0.60291</td>\n",
       "      <td>0.42221</td>\n",
       "      <td>0.57828</td>\n",
       "      <td>0.63202</td>\n",
       "      <td>0.59929</td>\n",
       "      <td>0.48143</td>\n",
       "      <td>0.50796</td>\n",
       "      <td>1</td>\n",
       "    </tr>\n",
       "    <tr>\n",
       "      <th>39100</th>\n",
       "      <td>era1</td>\n",
       "      <td>train</td>\n",
       "      <td>0.52020</td>\n",
       "      <td>0.38561</td>\n",
       "      <td>0.73734</td>\n",
       "      <td>0.28803</td>\n",
       "      <td>0.23947</td>\n",
       "      <td>0.28526</td>\n",
       "      <td>0.81930</td>\n",
       "      <td>0.40533</td>\n",
       "      <td>...</td>\n",
       "      <td>0.32548</td>\n",
       "      <td>0.85534</td>\n",
       "      <td>0.74794</td>\n",
       "      <td>0.29552</td>\n",
       "      <td>0.66491</td>\n",
       "      <td>0.74581</td>\n",
       "      <td>0.78279</td>\n",
       "      <td>0.52793</td>\n",
       "      <td>0.58432</td>\n",
       "      <td>1</td>\n",
       "    </tr>\n",
       "    <tr>\n",
       "      <th>146072</th>\n",
       "      <td>era1</td>\n",
       "      <td>train</td>\n",
       "      <td>0.25519</td>\n",
       "      <td>0.40359</td>\n",
       "      <td>0.83019</td>\n",
       "      <td>0.31328</td>\n",
       "      <td>0.26406</td>\n",
       "      <td>0.56522</td>\n",
       "      <td>0.50346</td>\n",
       "      <td>0.69290</td>\n",
       "      <td>...</td>\n",
       "      <td>0.18752</td>\n",
       "      <td>0.73311</td>\n",
       "      <td>0.54077</td>\n",
       "      <td>0.19624</td>\n",
       "      <td>0.80862</td>\n",
       "      <td>0.81713</td>\n",
       "      <td>0.45656</td>\n",
       "      <td>0.66848</td>\n",
       "      <td>0.51978</td>\n",
       "      <td>1</td>\n",
       "    </tr>\n",
       "    <tr>\n",
       "      <th>140880</th>\n",
       "      <td>era1</td>\n",
       "      <td>train</td>\n",
       "      <td>0.60276</td>\n",
       "      <td>0.43162</td>\n",
       "      <td>0.55852</td>\n",
       "      <td>0.41156</td>\n",
       "      <td>0.42314</td>\n",
       "      <td>0.28048</td>\n",
       "      <td>0.59067</td>\n",
       "      <td>0.41218</td>\n",
       "      <td>...</td>\n",
       "      <td>0.47205</td>\n",
       "      <td>0.60394</td>\n",
       "      <td>0.47279</td>\n",
       "      <td>0.47331</td>\n",
       "      <td>0.52210</td>\n",
       "      <td>0.58061</td>\n",
       "      <td>0.54359</td>\n",
       "      <td>0.52048</td>\n",
       "      <td>0.53967</td>\n",
       "      <td>1</td>\n",
       "    </tr>\n",
       "  </tbody>\n",
       "</table>\n",
       "<p>5 rows × 24 columns</p>\n",
       "</div>"
      ],
      "text/plain": [
       "         era data_type  feature1  feature2  feature3  feature4  feature5  \\\n",
       "id                                                                         \n",
       "30869   era1     train   0.80581   0.59023   0.33846   0.66893   0.60931   \n",
       "153709  era1     train   0.54412   0.49768   0.63767   0.45867   0.34125   \n",
       "39100   era1     train   0.52020   0.38561   0.73734   0.28803   0.23947   \n",
       "146072  era1     train   0.25519   0.40359   0.83019   0.31328   0.26406   \n",
       "140880  era1     train   0.60276   0.43162   0.55852   0.41156   0.42314   \n",
       "\n",
       "        feature6  feature7  feature8   ...    feature13  feature14  feature15  \\\n",
       "id                                     ...                                      \n",
       "30869    0.44031   0.54041   0.19611   ...      0.71156    0.44718    0.49803   \n",
       "153709   0.51880   0.66379   0.39711   ...      0.41867    0.69744    0.60291   \n",
       "39100    0.28526   0.81930   0.40533   ...      0.32548    0.85534    0.74794   \n",
       "146072   0.56522   0.50346   0.69290   ...      0.18752    0.73311    0.54077   \n",
       "140880   0.28048   0.59067   0.41218   ...      0.47205    0.60394    0.47279   \n",
       "\n",
       "        feature16  feature17  feature18  feature19  feature20  feature21  \\\n",
       "id                                                                         \n",
       "30869     0.65204    0.29910    0.33321    0.62169    0.30362    0.40045   \n",
       "153709    0.42221    0.57828    0.63202    0.59929    0.48143    0.50796   \n",
       "39100     0.29552    0.66491    0.74581    0.78279    0.52793    0.58432   \n",
       "146072    0.19624    0.80862    0.81713    0.45656    0.66848    0.51978   \n",
       "140880    0.47331    0.52210    0.58061    0.54359    0.52048    0.53967   \n",
       "\n",
       "        target  \n",
       "id              \n",
       "30869        1  \n",
       "153709       1  \n",
       "39100        1  \n",
       "146072       1  \n",
       "140880       1  \n",
       "\n",
       "[5 rows x 24 columns]"
      ]
     },
     "execution_count": 5,
     "metadata": {},
     "output_type": "execute_result"
    }
   ],
   "source": [
    "raw_train.head()"
   ]
  },
  {
   "cell_type": "code",
   "execution_count": 8,
   "metadata": {
    "collapsed": false,
    "deletable": true,
    "editable": true
   },
   "outputs": [],
   "source": [
    "train = raw_train[raw_train.loc[:,'data_type']=='train'].drop(['data_type', 'era'], axis=1)\n",
    "train_eras = raw_train[raw_train.loc[:,'data_type']=='train']['era']\n",
    "\n",
    "valid = raw_test[raw_test.loc[:,'data_type']=='validation'].drop(['data_type', 'era'], axis=1)\n",
    "val_eras = raw_test[raw_test.loc[:,'data_type']=='validation']['era']\n",
    "\n",
    "test = raw_test[raw_test.loc[:,'data_type']=='test'].drop(['data_type', 'target', 'era'], axis=1)\n",
    "live = raw_test[raw_test.loc[:,'data_type']=='live'].drop(['data_type', 'target', 'era'], axis=1)"
   ]
  },
  {
   "cell_type": "code",
   "execution_count": 9,
   "metadata": {
    "collapsed": false,
    "deletable": true,
    "editable": true
   },
   "outputs": [],
   "source": [
    "x_train = train.drop(['target'], axis=1)\n",
    "x_val = valid.drop(['target'], axis=1)\n",
    "y_train = train['target']\n",
    "y_val = valid['target']"
   ]
  },
  {
   "cell_type": "markdown",
   "metadata": {},
   "source": [
    "## Data Preprocessing"
   ]
  },
  {
   "cell_type": "code",
   "execution_count": 10,
   "metadata": {
    "collapsed": false,
    "scrolled": true
   },
   "outputs": [],
   "source": [
    "def score_sk_model(mod, x_val_pca, y_val, val_eras):    \n",
    "    print('Logloss: ' + str(log_loss(y_val.values, mod.predict_proba(x_val_pca))))\n",
    "    val_logo = LeaveOneGroupOut()\n",
    "    scores = []\n",
    "    fail = 0\n",
    "    guessing = -log(.5)\n",
    "    for _, index in val_logo.split(x_val_pca, y_val.values, val_eras.values):\n",
    "        score = log_loss(y_val.iloc[index].values, mod.predict_proba(x_val_pca[index,:]))\n",
    "        print(score)\n",
    "        if(score > guessing):\n",
    "            fail += 1\n",
    "    print(fail / 12.0)"
   ]
  },
  {
   "cell_type": "code",
   "execution_count": 11,
   "metadata": {
    "collapsed": false,
    "deletable": true,
    "editable": true
   },
   "outputs": [],
   "source": [
    "pca = PCA(n_components=7)\n",
    "x_train_pca = pca.fit_transform(x_train.values)\n",
    "#x_train_pca = x_train.values\n",
    "x_val_pca = pca.transform(x_val.values)\n",
    "#x_val_pca = x_val.values\n",
    "\n",
    "# logo = LeaveOneGroupOut()\n",
    "# cv = logo.split(x_train_pca, y_train.values, eras.values)"
   ]
  },
  {
   "cell_type": "markdown",
   "metadata": {},
   "source": [
    "## Random Forest Model"
   ]
  },
  {
   "cell_type": "code",
   "execution_count": 38,
   "metadata": {
    "collapsed": false,
    "deletable": true,
    "editable": true
   },
   "outputs": [],
   "source": [
    "# est: 85, md: 5, ml:1\n",
    "\n",
    "param_grid_1 = {'n_estimators': [80],\n",
    "              'max_depth': [7, 8] }\n",
    "\n",
    "clf_1 = RandomForestClassifier(random_state=42)\n",
    "\n",
    "grid_clf_1 = GridSearchCV(clf_1, param_grid=param_grid_1, cv=5)"
   ]
  },
  {
   "cell_type": "code",
   "execution_count": 39,
   "metadata": {
    "collapsed": true
   },
   "outputs": [],
   "source": [
    "# est: 85, md: 5, ml:1\n",
    "\n",
    "param_grid_2 = {'n_estimators': [100, 120],\n",
    "              'max_depth': [6] }\n",
    "\n",
    "clf_2 = RandomForestClassifier(random_state=42)\n",
    "\n",
    "grid_clf_2 = GridSearchCV(clf_2, param_grid=param_grid_2, cv=5)"
   ]
  },
  {
   "cell_type": "code",
   "execution_count": 40,
   "metadata": {
    "collapsed": false,
    "deletable": true,
    "editable": true
   },
   "outputs": [
    {
     "name": "stdout",
     "output_type": "stream",
     "text": [
      "{'n_estimators': 80, 'max_depth': 7}\n"
     ]
    }
   ],
   "source": [
    "grid_clf_1.fit(x_train.values, y_train.values)\n",
    "print(grid_clf_1. best_params_)"
   ]
  },
  {
   "cell_type": "code",
   "execution_count": 41,
   "metadata": {
    "collapsed": false
   },
   "outputs": [
    {
     "name": "stdout",
     "output_type": "stream",
     "text": [
      "{'n_estimators': 120, 'max_depth': 6}\n"
     ]
    }
   ],
   "source": [
    "grid_clf_2.fit(x_train_pca, y_train.values)\n",
    "print(grid_clf_2. best_params_)"
   ]
  },
  {
   "cell_type": "code",
   "execution_count": 42,
   "metadata": {
    "collapsed": false
   },
   "outputs": [
    {
     "name": "stdout",
     "output_type": "stream",
     "text": [
      "Logloss: 0.692532315799\n",
      "0.692175421212\n",
      "0.692359910455\n",
      "0.692504542591\n",
      "0.692532377914\n",
      "0.692499693782\n",
      "0.69219797567\n",
      "0.694310042667\n",
      "0.69338462236\n",
      "0.691294813804\n",
      "0.691555839973\n",
      "0.692888058728\n",
      "0.692637659196\n",
      "0.166666666667\n"
     ]
    }
   ],
   "source": [
    "score_sk_model(grid_clf_1.best_estimator_, x_val.values, y_val, val_eras)"
   ]
  },
  {
   "cell_type": "code",
   "execution_count": 43,
   "metadata": {
    "collapsed": false
   },
   "outputs": [
    {
     "name": "stdout",
     "output_type": "stream",
     "text": [
      "Logloss: 0.692358821252\n",
      "0.691887040127\n",
      "0.690162663113\n",
      "0.695965829119\n",
      "0.69637016538\n",
      "0.691718777066\n",
      "0.6922198876\n",
      "0.695817290271\n",
      "0.69365445496\n",
      "0.690877916363\n",
      "0.69006242186\n",
      "0.689105588616\n",
      "0.690104485242\n",
      "0.333333333333\n"
     ]
    }
   ],
   "source": [
    "score_sk_model(grid_clf_2.best_estimator_, x_val_pca, y_val, val_eras)"
   ]
  },
  {
   "cell_type": "code",
   "execution_count": 44,
   "metadata": {
    "collapsed": false
   },
   "outputs": [],
   "source": [
    "rf_1 = grid_clf_1.best_estimator_\n",
    "rf_2 = grid_clf_2.best_estimator_"
   ]
  },
  {
   "cell_type": "markdown",
   "metadata": {},
   "source": [
    "## Keras Model"
   ]
  },
  {
   "cell_type": "code",
   "execution_count": 27,
   "metadata": {
    "collapsed": false
   },
   "outputs": [
    {
     "name": "stderr",
     "output_type": "stream",
     "text": [
      "Using TensorFlow backend.\n"
     ]
    }
   ],
   "source": [
    "from keras.models import Sequential\n",
    "from keras.layers import Dense, Dropout, Activation\n",
    "from keras.optimizers import SGD, Adam"
   ]
  },
  {
   "cell_type": "code",
   "execution_count": 28,
   "metadata": {
    "collapsed": true
   },
   "outputs": [],
   "source": [
    "def score_keras_model(mod, x_val, y_val, val_eras):    \n",
    "    \n",
    "    print('Logloss: ' + str(log_loss(y_val.values, mod.predict(x_val.values))))\n",
    "    \n",
    "    val_logo = LeaveOneGroupOut()\n",
    "    scores = []\n",
    "    fail = 0\n",
    "    guessing = -log(.5)\n",
    "    \n",
    "    for _, index in val_logo.split(x_val.values, y_val.values, val_eras.values):\n",
    "        score = log_loss(y_val.iloc[index].values, mod.predict(x_val.values[index,:]))\n",
    "        print(score)\n",
    "        if(score > guessing):\n",
    "            fail += 1\n",
    "    print(fail / 12.0)"
   ]
  },
  {
   "cell_type": "code",
   "execution_count": 41,
   "metadata": {
    "collapsed": true
   },
   "outputs": [],
   "source": [
    "def compile_nn(input_dim):\n",
    "    \n",
    "    model = Sequential()    \n",
    "    model.add(Dense(512, input_dim=input_dim, activation='relu', init='normal'))    \n",
    "    model.add(Dropout(0.1))\n",
    "    \n",
    "    for i in range(0,3):        \n",
    "        model.add(Dense(512, activation='relu', init='normal'))\n",
    "        model.add(Dropout(0.1))\n",
    "    \n",
    "    model.add(Dense(1, activation='sigmoid'))\n",
    "\n",
    "    model.compile(loss='binary_crossentropy',\n",
    "                  optimizer='rmsprop',\n",
    "                  metrics=['accuracy'])\n",
    "    \n",
    "    return model\n",
    "\n",
    "nn = compile_nn(x_train.shape[1])"
   ]
  },
  {
   "cell_type": "code",
   "execution_count": 48,
   "metadata": {
    "collapsed": false
   },
   "outputs": [
    {
     "name": "stdout",
     "output_type": "stream",
     "text": [
      "Train on 108405 samples, validate on 16686 samples\n",
      "Epoch 1/15\n",
      "23s - loss: 0.6930 - acc: 0.5077 - val_loss: 0.6928 - val_acc: 0.5125\n",
      "Epoch 2/15\n",
      "23s - loss: 0.6930 - acc: 0.5068 - val_loss: 0.6930 - val_acc: 0.5077\n",
      "Epoch 3/15\n",
      "23s - loss: 0.6930 - acc: 0.5090 - val_loss: 0.6929 - val_acc: 0.5123\n",
      "Epoch 4/15\n",
      "23s - loss: 0.6929 - acc: 0.5087 - val_loss: 0.6932 - val_acc: 0.4982\n",
      "Epoch 5/15\n",
      "23s - loss: 0.6930 - acc: 0.5084 - val_loss: 0.6928 - val_acc: 0.5149\n",
      "Epoch 6/15\n",
      "23s - loss: 0.6930 - acc: 0.5079 - val_loss: 0.6930 - val_acc: 0.5077\n",
      "Epoch 7/15\n",
      "23s - loss: 0.6929 - acc: 0.5062 - val_loss: 0.6928 - val_acc: 0.5127\n",
      "Epoch 8/15\n",
      "23s - loss: 0.6930 - acc: 0.5063 - val_loss: 0.6931 - val_acc: 0.4982\n",
      "Epoch 9/15\n",
      "23s - loss: 0.6930 - acc: 0.5097 - val_loss: 0.6928 - val_acc: 0.5143\n",
      "Epoch 10/15\n",
      "23s - loss: 0.6930 - acc: 0.5083 - val_loss: 0.6928 - val_acc: 0.5122\n",
      "Epoch 11/15\n",
      "23s - loss: 0.6929 - acc: 0.5104 - val_loss: 0.6928 - val_acc: 0.5132\n",
      "Epoch 12/15\n",
      "23s - loss: 0.6929 - acc: 0.5075 - val_loss: 0.6932 - val_acc: 0.4982\n",
      "Epoch 13/15\n",
      "23s - loss: 0.6929 - acc: 0.5076 - val_loss: 0.6927 - val_acc: 0.5152\n",
      "Epoch 14/15\n",
      "23s - loss: 0.6930 - acc: 0.5072 - val_loss: 0.6929 - val_acc: 0.5152\n",
      "Epoch 15/15\n",
      "23s - loss: 0.6930 - acc: 0.5095 - val_loss: 0.6928 - val_acc: 0.5128\n"
     ]
    },
    {
     "data": {
      "text/plain": [
       "<keras.callbacks.History at 0x2b8f95a73550>"
      ]
     },
     "execution_count": 48,
     "metadata": {},
     "output_type": "execute_result"
    }
   ],
   "source": [
    "nn.fit(x_train.values, y_train.values, validation_data=(x_val.values, y_val.values),\n",
    "           nb_epoch=15, batch_size=64, verbose=2)"
   ]
  },
  {
   "cell_type": "code",
   "execution_count": 50,
   "metadata": {
    "collapsed": false
   },
   "outputs": [
    {
     "name": "stdout",
     "output_type": "stream",
     "text": [
      "Logloss: 0.692844254414\n",
      "0.692775817342\n",
      "0.693034849444\n",
      "0.693521662513\n",
      "0.693324561479\n",
      "0.693058599557\n",
      "0.69291375513\n",
      "0.69266847655\n",
      "0.692740625415\n",
      "0.692540373578\n",
      "0.691682733661\n",
      "0.692791734761\n",
      "0.693088249177\n",
      "0.166666666667\n"
     ]
    }
   ],
   "source": [
    "score_keras_model(nn, x_val, y_val, val_eras)"
   ]
  },
  {
   "cell_type": "markdown",
   "metadata": {},
   "source": [
    "## Voting Ensemble between models"
   ]
  },
  {
   "cell_type": "code",
   "execution_count": 93,
   "metadata": {
    "collapsed": false
   },
   "outputs": [],
   "source": [
    "def pick_extreme(row):\n",
    "    \n",
    "    #print(row[0])\n",
    "    \n",
    "    max_vote = np.max(row)\n",
    "    min_vote = np.min(row)\n",
    "    \n",
    "    vote = 0.0\n",
    "    \n",
    "    if((max_vote >= .5) and (min_vote >= .5)):\n",
    "        vote = max_vote\n",
    "        #vote = 1\n",
    "    elif((max_vote <= .5) and (min_vote <= .5)):\n",
    "        vote = min_vote\n",
    "        #vote = 0\n",
    "    else:\n",
    "        vote = np.mean\n",
    "        \n",
    "    return vote"
   ]
  },
  {
   "cell_type": "code",
   "execution_count": 94,
   "metadata": {
    "collapsed": false
   },
   "outputs": [
    {
     "data": {
      "text/html": [
       "<div>\n",
       "<table border=\"1\" class=\"dataframe\">\n",
       "  <thead>\n",
       "    <tr style=\"text-align: right;\">\n",
       "      <th></th>\n",
       "      <th>rf_1</th>\n",
       "      <th>rf_2</th>\n",
       "      <th>target</th>\n",
       "    </tr>\n",
       "  </thead>\n",
       "  <tbody>\n",
       "    <tr>\n",
       "      <th>count</th>\n",
       "      <td>16686.000000</td>\n",
       "      <td>16686.000000</td>\n",
       "      <td>16686.000000</td>\n",
       "    </tr>\n",
       "    <tr>\n",
       "      <th>mean</th>\n",
       "      <td>0.504675</td>\n",
       "      <td>0.504718</td>\n",
       "      <td>0.498202</td>\n",
       "    </tr>\n",
       "    <tr>\n",
       "      <th>std</th>\n",
       "      <td>0.016110</td>\n",
       "      <td>0.019327</td>\n",
       "      <td>0.500012</td>\n",
       "    </tr>\n",
       "    <tr>\n",
       "      <th>min</th>\n",
       "      <td>0.321381</td>\n",
       "      <td>0.405391</td>\n",
       "      <td>0.000000</td>\n",
       "    </tr>\n",
       "    <tr>\n",
       "      <th>25%</th>\n",
       "      <td>0.495364</td>\n",
       "      <td>0.495181</td>\n",
       "      <td>0.000000</td>\n",
       "    </tr>\n",
       "    <tr>\n",
       "      <th>50%</th>\n",
       "      <td>0.505039</td>\n",
       "      <td>0.508478</td>\n",
       "      <td>0.000000</td>\n",
       "    </tr>\n",
       "    <tr>\n",
       "      <th>75%</th>\n",
       "      <td>0.515639</td>\n",
       "      <td>0.517689</td>\n",
       "      <td>1.000000</td>\n",
       "    </tr>\n",
       "    <tr>\n",
       "      <th>max</th>\n",
       "      <td>0.618494</td>\n",
       "      <td>0.560419</td>\n",
       "      <td>1.000000</td>\n",
       "    </tr>\n",
       "  </tbody>\n",
       "</table>\n",
       "</div>"
      ],
      "text/plain": [
       "               rf_1          rf_2        target\n",
       "count  16686.000000  16686.000000  16686.000000\n",
       "mean       0.504675      0.504718      0.498202\n",
       "std        0.016110      0.019327      0.500012\n",
       "min        0.321381      0.405391      0.000000\n",
       "25%        0.495364      0.495181      0.000000\n",
       "50%        0.505039      0.508478      0.000000\n",
       "75%        0.515639      0.517689      1.000000\n",
       "max        0.618494      0.560419      1.000000"
      ]
     },
     "execution_count": 94,
     "metadata": {},
     "output_type": "execute_result"
    }
   ],
   "source": [
    "# must switch to validation for scoring\n",
    "rf_1_preds = pd.Series(rf_1.predict_proba(x_val.values)[:,1], index=y_val.index)\n",
    "rf_2_preds = pd.Series(rf_2.predict_proba(x_val_pca)[:,1], index=y_val.index)\n",
    "\n",
    "ens = pd.concat([rf_1_preds, rf_2_preds], axis=1)\n",
    "ens.columns = ['rf_1', 'rf_2']\n",
    "\n",
    "vote = ens.apply(func=pick_extreme, axis=1)\n",
    "\n",
    "ens['vote'] = vote\n",
    "ens['target'] = y_val\n",
    "ens.describe()"
   ]
  },
  {
   "cell_type": "code",
   "execution_count": 95,
   "metadata": {
    "collapsed": false
   },
   "outputs": [
    {
     "data": {
      "text/html": [
       "<div>\n",
       "<table border=\"1\" class=\"dataframe\">\n",
       "  <thead>\n",
       "    <tr style=\"text-align: right;\">\n",
       "      <th></th>\n",
       "      <th>rf_1</th>\n",
       "      <th>rf_2</th>\n",
       "      <th>vote</th>\n",
       "      <th>target</th>\n",
       "    </tr>\n",
       "    <tr>\n",
       "      <th>id</th>\n",
       "      <th></th>\n",
       "      <th></th>\n",
       "      <th></th>\n",
       "      <th></th>\n",
       "    </tr>\n",
       "  </thead>\n",
       "  <tbody>\n",
       "    <tr>\n",
       "      <th>535632</th>\n",
       "      <td>0.509730</td>\n",
       "      <td>0.501092</td>\n",
       "      <td>0.50973</td>\n",
       "      <td>1.0</td>\n",
       "    </tr>\n",
       "    <tr>\n",
       "      <th>526056</th>\n",
       "      <td>0.492063</td>\n",
       "      <td>0.498484</td>\n",
       "      <td>0.492063</td>\n",
       "      <td>1.0</td>\n",
       "    </tr>\n",
       "    <tr>\n",
       "      <th>621500</th>\n",
       "      <td>0.505847</td>\n",
       "      <td>0.509371</td>\n",
       "      <td>0.509371</td>\n",
       "      <td>0.0</td>\n",
       "    </tr>\n",
       "    <tr>\n",
       "      <th>561590</th>\n",
       "      <td>0.482536</td>\n",
       "      <td>0.485528</td>\n",
       "      <td>0.482536</td>\n",
       "      <td>1.0</td>\n",
       "    </tr>\n",
       "    <tr>\n",
       "      <th>523587</th>\n",
       "      <td>0.515976</td>\n",
       "      <td>0.500454</td>\n",
       "      <td>0.515976</td>\n",
       "      <td>1.0</td>\n",
       "    </tr>\n",
       "  </tbody>\n",
       "</table>\n",
       "</div>"
      ],
      "text/plain": [
       "            rf_1      rf_2      vote  target\n",
       "id                                          \n",
       "535632  0.509730  0.501092   0.50973     1.0\n",
       "526056  0.492063  0.498484  0.492063     1.0\n",
       "621500  0.505847  0.509371  0.509371     0.0\n",
       "561590  0.482536  0.485528  0.482536     1.0\n",
       "523587  0.515976  0.500454  0.515976     1.0"
      ]
     },
     "execution_count": 95,
     "metadata": {},
     "output_type": "execute_result"
    }
   ],
   "source": [
    "ens.head()"
   ]
  },
  {
   "cell_type": "code",
   "execution_count": 96,
   "metadata": {
    "collapsed": false
   },
   "outputs": [
    {
     "ename": "TypeError",
     "evalue": "float() argument must be a string or a number",
     "output_type": "error",
     "traceback": [
      "\u001b[0;31m---------------------------------------------------------------------------\u001b[0m",
      "\u001b[0;31mTypeError\u001b[0m                                 Traceback (most recent call last)",
      "\u001b[0;32m<ipython-input-96-e1c8c7dc6662>\u001b[0m in \u001b[0;36m<module>\u001b[0;34m()\u001b[0m\n\u001b[1;32m     13\u001b[0m     \u001b[0;32mprint\u001b[0m\u001b[0;34m(\u001b[0m\u001b[0mfail\u001b[0m \u001b[0;34m/\u001b[0m \u001b[0;36m12.0\u001b[0m\u001b[0;34m)\u001b[0m\u001b[0;34m\u001b[0m\u001b[0m\n\u001b[1;32m     14\u001b[0m \u001b[0;34m\u001b[0m\u001b[0m\n\u001b[0;32m---> 15\u001b[0;31m \u001b[0mscore_ensemble\u001b[0m\u001b[0;34m(\u001b[0m\u001b[0mens\u001b[0m\u001b[0;34m,\u001b[0m \u001b[0mval_eras\u001b[0m\u001b[0;34m)\u001b[0m\u001b[0;34m\u001b[0m\u001b[0m\n\u001b[0m",
      "\u001b[0;32m<ipython-input-96-e1c8c7dc6662>\u001b[0m in \u001b[0;36mscore_ensemble\u001b[0;34m(ens, val_eras)\u001b[0m\n\u001b[1;32m      1\u001b[0m \u001b[0;32mdef\u001b[0m \u001b[0mscore_ensemble\u001b[0m\u001b[0;34m(\u001b[0m\u001b[0mens\u001b[0m\u001b[0;34m,\u001b[0m \u001b[0mval_eras\u001b[0m\u001b[0;34m)\u001b[0m\u001b[0;34m:\u001b[0m\u001b[0;34m\u001b[0m\u001b[0m\n\u001b[0;32m----> 2\u001b[0;31m     \u001b[0;32mprint\u001b[0m\u001b[0;34m(\u001b[0m\u001b[0;34m'Logloss: '\u001b[0m \u001b[0;34m+\u001b[0m \u001b[0mstr\u001b[0m\u001b[0;34m(\u001b[0m\u001b[0mlog_loss\u001b[0m\u001b[0;34m(\u001b[0m\u001b[0mens\u001b[0m\u001b[0;34m[\u001b[0m\u001b[0;34m'target'\u001b[0m\u001b[0;34m]\u001b[0m\u001b[0;34m.\u001b[0m\u001b[0mvalues\u001b[0m\u001b[0;34m,\u001b[0m \u001b[0mens\u001b[0m\u001b[0;34m[\u001b[0m\u001b[0;34m'vote'\u001b[0m\u001b[0;34m]\u001b[0m\u001b[0;34m.\u001b[0m\u001b[0mvalues\u001b[0m\u001b[0;34m)\u001b[0m\u001b[0;34m)\u001b[0m\u001b[0;34m)\u001b[0m\u001b[0;34m\u001b[0m\u001b[0m\n\u001b[0m\u001b[1;32m      3\u001b[0m     \u001b[0mval_logo\u001b[0m \u001b[0;34m=\u001b[0m \u001b[0mLeaveOneGroupOut\u001b[0m\u001b[0;34m(\u001b[0m\u001b[0;34m)\u001b[0m\u001b[0;34m\u001b[0m\u001b[0m\n\u001b[1;32m      4\u001b[0m     \u001b[0mscores\u001b[0m \u001b[0;34m=\u001b[0m \u001b[0;34m[\u001b[0m\u001b[0;34m]\u001b[0m\u001b[0;34m\u001b[0m\u001b[0m\n\u001b[1;32m      5\u001b[0m     \u001b[0mfail\u001b[0m \u001b[0;34m=\u001b[0m \u001b[0;36m0\u001b[0m\u001b[0;34m\u001b[0m\u001b[0m\n",
      "\u001b[0;32m/usr/nic/apps/python_data_analytics/2.7.12/lib/python2.7/site-packages/sklearn/metrics/classification.pyc\u001b[0m in \u001b[0;36mlog_loss\u001b[0;34m(y_true, y_pred, eps, normalize, sample_weight, labels)\u001b[0m\n\u001b[1;32m   1606\u001b[0m     \u001b[0mThe\u001b[0m \u001b[0mlogarithm\u001b[0m \u001b[0mused\u001b[0m \u001b[0;32mis\u001b[0m \u001b[0mthe\u001b[0m \u001b[0mnatural\u001b[0m \u001b[0mlogarithm\u001b[0m \u001b[0;34m(\u001b[0m\u001b[0mbase\u001b[0m\u001b[0;34m-\u001b[0m\u001b[0me\u001b[0m\u001b[0;34m)\u001b[0m\u001b[0;34m.\u001b[0m\u001b[0;34m\u001b[0m\u001b[0m\n\u001b[1;32m   1607\u001b[0m     \"\"\"\n\u001b[0;32m-> 1608\u001b[0;31m     \u001b[0my_pred\u001b[0m \u001b[0;34m=\u001b[0m \u001b[0mcheck_array\u001b[0m\u001b[0;34m(\u001b[0m\u001b[0my_pred\u001b[0m\u001b[0;34m,\u001b[0m \u001b[0mensure_2d\u001b[0m\u001b[0;34m=\u001b[0m\u001b[0mFalse\u001b[0m\u001b[0;34m)\u001b[0m\u001b[0;34m\u001b[0m\u001b[0m\n\u001b[0m\u001b[1;32m   1609\u001b[0m     \u001b[0mcheck_consistent_length\u001b[0m\u001b[0;34m(\u001b[0m\u001b[0my_pred\u001b[0m\u001b[0;34m,\u001b[0m \u001b[0my_true\u001b[0m\u001b[0;34m)\u001b[0m\u001b[0;34m\u001b[0m\u001b[0m\n\u001b[1;32m   1610\u001b[0m \u001b[0;34m\u001b[0m\u001b[0m\n",
      "\u001b[0;32m/usr/nic/apps/python_data_analytics/2.7.12/lib/python2.7/site-packages/sklearn/utils/validation.pyc\u001b[0m in \u001b[0;36mcheck_array\u001b[0;34m(array, accept_sparse, dtype, order, copy, force_all_finite, ensure_2d, allow_nd, ensure_min_samples, ensure_min_features, warn_on_dtype, estimator)\u001b[0m\n\u001b[1;32m    380\u001b[0m                                       force_all_finite)\n\u001b[1;32m    381\u001b[0m     \u001b[0;32melse\u001b[0m\u001b[0;34m:\u001b[0m\u001b[0;34m\u001b[0m\u001b[0m\n\u001b[0;32m--> 382\u001b[0;31m         \u001b[0marray\u001b[0m \u001b[0;34m=\u001b[0m \u001b[0mnp\u001b[0m\u001b[0;34m.\u001b[0m\u001b[0marray\u001b[0m\u001b[0;34m(\u001b[0m\u001b[0marray\u001b[0m\u001b[0;34m,\u001b[0m \u001b[0mdtype\u001b[0m\u001b[0;34m=\u001b[0m\u001b[0mdtype\u001b[0m\u001b[0;34m,\u001b[0m \u001b[0morder\u001b[0m\u001b[0;34m=\u001b[0m\u001b[0morder\u001b[0m\u001b[0;34m,\u001b[0m \u001b[0mcopy\u001b[0m\u001b[0;34m=\u001b[0m\u001b[0mcopy\u001b[0m\u001b[0;34m)\u001b[0m\u001b[0;34m\u001b[0m\u001b[0m\n\u001b[0m\u001b[1;32m    383\u001b[0m \u001b[0;34m\u001b[0m\u001b[0m\n\u001b[1;32m    384\u001b[0m         \u001b[0;32mif\u001b[0m \u001b[0mensure_2d\u001b[0m\u001b[0;34m:\u001b[0m\u001b[0;34m\u001b[0m\u001b[0m\n",
      "\u001b[0;31mTypeError\u001b[0m: float() argument must be a string or a number"
     ]
    }
   ],
   "source": [
    "def score_ensemble(ens, val_eras):\n",
    "    print('Logloss: ' + str(log_loss(ens['target'].values, ens['vote'].values)))\n",
    "    val_logo = LeaveOneGroupOut()\n",
    "    scores = []\n",
    "    fail = 0\n",
    "    guessing = -log(.5)\n",
    "    for _, index in val_logo.split(ens['vote'].values, ens['target'].values, val_eras.values):\n",
    "        score = log_loss(ens['target'].iloc[index].values, ens['vote'].iloc[index].values)\n",
    "        print(score)\n",
    "        if(score > guessing):\n",
    "            fail += 1\n",
    "                \n",
    "    print(fail / 12.0)\n",
    "                \n",
    "score_ensemble(ens, val_eras)"
   ]
  },
  {
   "cell_type": "markdown",
   "metadata": {},
   "source": [
    "## Submission"
   ]
  },
  {
   "cell_type": "code",
   "execution_count": 65,
   "metadata": {
    "collapsed": false
   },
   "outputs": [],
   "source": [
    "to_pred = pd.concat([x_val,test,live])\n",
    "\n",
    "# SK Learn model\n",
    "pred_pca = pca.transform(to_pred.values)\n",
    "rf_1_preds = pd.Series(rf_1.predict_proba(to_pred.values)[:,1])\n",
    "rf_2_preds = pd.Series(rf_2.predict_proba(pred_pca)[:,1])\n",
    "\n",
    "#Keras model\n",
    "#nn_preds = pd.Series(nn.predict(to_pred.values)[:,0])\n",
    "\n",
    "to_vote = pd.concat([rf_1_preds, rf_2_preds], axis=1)\n",
    "\n",
    "# Ensemble Tree\n",
    "#ens_preds = pd.Series(tree.predict_proba(to_vote.values)[:,1])\n",
    "ens_preds = to_vote.mean(axis=1)"
   ]
  },
  {
   "cell_type": "code",
   "execution_count": 66,
   "metadata": {
    "collapsed": false
   },
   "outputs": [
    {
     "data": {
      "text/plain": [
       "count    45625.000000\n",
       "mean         0.504611\n",
       "std          0.015593\n",
       "min          0.392300\n",
       "25%          0.496025\n",
       "50%          0.505737\n",
       "75%          0.515293\n",
       "max          0.585255\n",
       "dtype: float64"
      ]
     },
     "execution_count": 66,
     "metadata": {},
     "output_type": "execute_result"
    }
   ],
   "source": [
    "ens_preds.describe()"
   ]
  },
  {
   "cell_type": "code",
   "execution_count": 67,
   "metadata": {
    "collapsed": false,
    "deletable": true,
    "editable": true
   },
   "outputs": [
    {
     "data": {
      "text/html": [
       "<div>\n",
       "<table border=\"1\" class=\"dataframe\">\n",
       "  <thead>\n",
       "    <tr style=\"text-align: right;\">\n",
       "      <th></th>\n",
       "      <th>id</th>\n",
       "      <th>probability</th>\n",
       "    </tr>\n",
       "  </thead>\n",
       "  <tbody>\n",
       "    <tr>\n",
       "      <th>0</th>\n",
       "      <td>535632</td>\n",
       "      <td>0.505411</td>\n",
       "    </tr>\n",
       "    <tr>\n",
       "      <th>1</th>\n",
       "      <td>526056</td>\n",
       "      <td>0.495273</td>\n",
       "    </tr>\n",
       "    <tr>\n",
       "      <th>2</th>\n",
       "      <td>621500</td>\n",
       "      <td>0.507609</td>\n",
       "    </tr>\n",
       "    <tr>\n",
       "      <th>3</th>\n",
       "      <td>561590</td>\n",
       "      <td>0.484032</td>\n",
       "    </tr>\n",
       "    <tr>\n",
       "      <th>4</th>\n",
       "      <td>523587</td>\n",
       "      <td>0.508215</td>\n",
       "    </tr>\n",
       "  </tbody>\n",
       "</table>\n",
       "</div>"
      ],
      "text/plain": [
       "       id  probability\n",
       "0  535632     0.505411\n",
       "1  526056     0.495273\n",
       "2  621500     0.507609\n",
       "3  561590     0.484032\n",
       "4  523587     0.508215"
      ]
     },
     "execution_count": 67,
     "metadata": {},
     "output_type": "execute_result"
    }
   ],
   "source": [
    "sub = pd.concat([pd.Series(to_pred.index), pd.Series(ens_preds)], axis=1)\n",
    "sub.columns = ['id', 'probability']\n",
    "sub.head()"
   ]
  },
  {
   "cell_type": "code",
   "execution_count": 68,
   "metadata": {
    "collapsed": true,
    "deletable": true,
    "editable": true
   },
   "outputs": [],
   "source": [
    "sub.to_csv('sub22_ens.csv', index=False)"
   ]
  },
  {
   "cell_type": "code",
   "execution_count": null,
   "metadata": {
    "collapsed": true,
    "deletable": true,
    "editable": true
   },
   "outputs": [],
   "source": []
  }
 ],
 "metadata": {
  "kernelspec": {
   "display_name": "Python 2",
   "language": "python",
   "name": "python2"
  },
  "language_info": {
   "codemirror_mode": {
    "name": "ipython",
    "version": 2
   },
   "file_extension": ".py",
   "mimetype": "text/x-python",
   "name": "python",
   "nbconvert_exporter": "python",
   "pygments_lexer": "ipython2",
   "version": "2.7.12"
  }
 },
 "nbformat": 4,
 "nbformat_minor": 2
}
