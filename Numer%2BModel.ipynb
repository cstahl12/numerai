{
 "cells": [
  {
   "cell_type": "markdown",
   "metadata": {
    "deletable": true,
    "editable": true
   },
   "source": [
    "## Load Environments"
   ]
  },
  {
   "cell_type": "code",
   "execution_count": 1,
   "metadata": {
    "collapsed": true,
    "deletable": true,
    "editable": true
   },
   "outputs": [],
   "source": [
    "import numpy as np\n",
    "import pandas as pd\n",
    "import matplotlib.pyplot as plt\n",
    "from math import log"
   ]
  },
  {
   "cell_type": "code",
   "execution_count": 80,
   "metadata": {
    "collapsed": false,
    "deletable": true,
    "editable": true
   },
   "outputs": [],
   "source": [
    "from sklearn.preprocessing import LabelEncoder\n",
    "from sklearn.decomposition import PCA\n",
    "from sklearn.metrics import log_loss\n",
    "from sklearn.model_selection import GridSearchCV, LeaveOneGroupOut"
   ]
  },
  {
   "cell_type": "code",
   "execution_count": 3,
   "metadata": {
    "collapsed": true,
    "deletable": true,
    "editable": true
   },
   "outputs": [],
   "source": [
    "from sklearn.ensemble import RandomForestClassifier, GradientBoostingClassifier\n",
    "from sklearn.svm import SVC\n",
    "from sklearn.linear_model import SGDClassifier"
   ]
  },
  {
   "cell_type": "markdown",
   "metadata": {
    "deletable": true,
    "editable": true
   },
   "source": [
    "## Read in raw data sets, training, tournament (val, test, live)"
   ]
  },
  {
   "cell_type": "code",
   "execution_count": 12,
   "metadata": {
    "collapsed": false,
    "deletable": true,
    "editable": true
   },
   "outputs": [],
   "source": [
    "raw_train = pd.read_csv('train.csv', index_col=0)\n",
    "raw_test = pd.read_csv('test.csv', index_col=0)"
   ]
  },
  {
   "cell_type": "code",
   "execution_count": 13,
   "metadata": {
    "collapsed": false,
    "deletable": true,
    "editable": true
   },
   "outputs": [
    {
     "data": {
      "text/html": [
       "<div>\n",
       "<table border=\"1\" class=\"dataframe\">\n",
       "  <thead>\n",
       "    <tr style=\"text-align: right;\">\n",
       "      <th></th>\n",
       "      <th>era</th>\n",
       "      <th>data_type</th>\n",
       "      <th>feature1</th>\n",
       "      <th>feature2</th>\n",
       "      <th>feature3</th>\n",
       "      <th>feature4</th>\n",
       "      <th>feature5</th>\n",
       "      <th>feature6</th>\n",
       "      <th>feature7</th>\n",
       "      <th>feature8</th>\n",
       "      <th>...</th>\n",
       "      <th>feature13</th>\n",
       "      <th>feature14</th>\n",
       "      <th>feature15</th>\n",
       "      <th>feature16</th>\n",
       "      <th>feature17</th>\n",
       "      <th>feature18</th>\n",
       "      <th>feature19</th>\n",
       "      <th>feature20</th>\n",
       "      <th>feature21</th>\n",
       "      <th>target</th>\n",
       "    </tr>\n",
       "    <tr>\n",
       "      <th>id</th>\n",
       "      <th></th>\n",
       "      <th></th>\n",
       "      <th></th>\n",
       "      <th></th>\n",
       "      <th></th>\n",
       "      <th></th>\n",
       "      <th></th>\n",
       "      <th></th>\n",
       "      <th></th>\n",
       "      <th></th>\n",
       "      <th></th>\n",
       "      <th></th>\n",
       "      <th></th>\n",
       "      <th></th>\n",
       "      <th></th>\n",
       "      <th></th>\n",
       "      <th></th>\n",
       "      <th></th>\n",
       "      <th></th>\n",
       "      <th></th>\n",
       "      <th></th>\n",
       "    </tr>\n",
       "  </thead>\n",
       "  <tbody>\n",
       "    <tr>\n",
       "      <th>518647</th>\n",
       "      <td>era1</td>\n",
       "      <td>train</td>\n",
       "      <td>0.26647</td>\n",
       "      <td>0.42487</td>\n",
       "      <td>0.81401</td>\n",
       "      <td>0.22889</td>\n",
       "      <td>0.27456</td>\n",
       "      <td>0.55654</td>\n",
       "      <td>0.55310</td>\n",
       "      <td>0.71899</td>\n",
       "      <td>...</td>\n",
       "      <td>0.18847</td>\n",
       "      <td>0.77235</td>\n",
       "      <td>0.55002</td>\n",
       "      <td>0.20237</td>\n",
       "      <td>0.79605</td>\n",
       "      <td>0.82971</td>\n",
       "      <td>0.45757</td>\n",
       "      <td>0.69761</td>\n",
       "      <td>0.53739</td>\n",
       "      <td>1</td>\n",
       "    </tr>\n",
       "    <tr>\n",
       "      <th>581542</th>\n",
       "      <td>era1</td>\n",
       "      <td>train</td>\n",
       "      <td>0.41334</td>\n",
       "      <td>0.47533</td>\n",
       "      <td>0.71847</td>\n",
       "      <td>0.40792</td>\n",
       "      <td>0.32433</td>\n",
       "      <td>0.55806</td>\n",
       "      <td>0.59592</td>\n",
       "      <td>0.51830</td>\n",
       "      <td>...</td>\n",
       "      <td>0.32083</td>\n",
       "      <td>0.72435</td>\n",
       "      <td>0.63751</td>\n",
       "      <td>0.29143</td>\n",
       "      <td>0.67860</td>\n",
       "      <td>0.70083</td>\n",
       "      <td>0.59967</td>\n",
       "      <td>0.53103</td>\n",
       "      <td>0.47446</td>\n",
       "      <td>1</td>\n",
       "    </tr>\n",
       "    <tr>\n",
       "      <th>630790</th>\n",
       "      <td>era1</td>\n",
       "      <td>train</td>\n",
       "      <td>0.48937</td>\n",
       "      <td>0.56030</td>\n",
       "      <td>0.59150</td>\n",
       "      <td>0.46432</td>\n",
       "      <td>0.42291</td>\n",
       "      <td>0.54177</td>\n",
       "      <td>0.53542</td>\n",
       "      <td>0.50577</td>\n",
       "      <td>...</td>\n",
       "      <td>0.42195</td>\n",
       "      <td>0.62651</td>\n",
       "      <td>0.51604</td>\n",
       "      <td>0.42938</td>\n",
       "      <td>0.56744</td>\n",
       "      <td>0.60008</td>\n",
       "      <td>0.46966</td>\n",
       "      <td>0.50322</td>\n",
       "      <td>0.42803</td>\n",
       "      <td>1</td>\n",
       "    </tr>\n",
       "    <tr>\n",
       "      <th>646251</th>\n",
       "      <td>era1</td>\n",
       "      <td>train</td>\n",
       "      <td>0.61195</td>\n",
       "      <td>0.65958</td>\n",
       "      <td>0.45877</td>\n",
       "      <td>0.56730</td>\n",
       "      <td>0.51889</td>\n",
       "      <td>0.45049</td>\n",
       "      <td>0.56030</td>\n",
       "      <td>0.39115</td>\n",
       "      <td>...</td>\n",
       "      <td>0.54803</td>\n",
       "      <td>0.59120</td>\n",
       "      <td>0.58160</td>\n",
       "      <td>0.51828</td>\n",
       "      <td>0.43870</td>\n",
       "      <td>0.47011</td>\n",
       "      <td>0.56007</td>\n",
       "      <td>0.36374</td>\n",
       "      <td>0.31552</td>\n",
       "      <td>1</td>\n",
       "    </tr>\n",
       "    <tr>\n",
       "      <th>558386</th>\n",
       "      <td>era1</td>\n",
       "      <td>train</td>\n",
       "      <td>0.43758</td>\n",
       "      <td>0.50085</td>\n",
       "      <td>0.60446</td>\n",
       "      <td>0.46663</td>\n",
       "      <td>0.47157</td>\n",
       "      <td>0.59667</td>\n",
       "      <td>0.40161</td>\n",
       "      <td>0.56260</td>\n",
       "      <td>...</td>\n",
       "      <td>0.40535</td>\n",
       "      <td>0.54366</td>\n",
       "      <td>0.44763</td>\n",
       "      <td>0.37668</td>\n",
       "      <td>0.59931</td>\n",
       "      <td>0.59539</td>\n",
       "      <td>0.43771</td>\n",
       "      <td>0.54767</td>\n",
       "      <td>0.43742</td>\n",
       "      <td>1</td>\n",
       "    </tr>\n",
       "  </tbody>\n",
       "</table>\n",
       "<p>5 rows × 24 columns</p>\n",
       "</div>"
      ],
      "text/plain": [
       "         era data_type  feature1  feature2  feature3  feature4  feature5  \\\n",
       "id                                                                         \n",
       "518647  era1     train   0.26647   0.42487   0.81401   0.22889   0.27456   \n",
       "581542  era1     train   0.41334   0.47533   0.71847   0.40792   0.32433   \n",
       "630790  era1     train   0.48937   0.56030   0.59150   0.46432   0.42291   \n",
       "646251  era1     train   0.61195   0.65958   0.45877   0.56730   0.51889   \n",
       "558386  era1     train   0.43758   0.50085   0.60446   0.46663   0.47157   \n",
       "\n",
       "        feature6  feature7  feature8   ...    feature13  feature14  feature15  \\\n",
       "id                                     ...                                      \n",
       "518647   0.55654   0.55310   0.71899   ...      0.18847    0.77235    0.55002   \n",
       "581542   0.55806   0.59592   0.51830   ...      0.32083    0.72435    0.63751   \n",
       "630790   0.54177   0.53542   0.50577   ...      0.42195    0.62651    0.51604   \n",
       "646251   0.45049   0.56030   0.39115   ...      0.54803    0.59120    0.58160   \n",
       "558386   0.59667   0.40161   0.56260   ...      0.40535    0.54366    0.44763   \n",
       "\n",
       "        feature16  feature17  feature18  feature19  feature20  feature21  \\\n",
       "id                                                                         \n",
       "518647    0.20237    0.79605    0.82971    0.45757    0.69761    0.53739   \n",
       "581542    0.29143    0.67860    0.70083    0.59967    0.53103    0.47446   \n",
       "630790    0.42938    0.56744    0.60008    0.46966    0.50322    0.42803   \n",
       "646251    0.51828    0.43870    0.47011    0.56007    0.36374    0.31552   \n",
       "558386    0.37668    0.59931    0.59539    0.43771    0.54767    0.43742   \n",
       "\n",
       "        target  \n",
       "id              \n",
       "518647       1  \n",
       "581542       1  \n",
       "630790       1  \n",
       "646251       1  \n",
       "558386       1  \n",
       "\n",
       "[5 rows x 24 columns]"
      ]
     },
     "execution_count": 13,
     "metadata": {},
     "output_type": "execute_result"
    }
   ],
   "source": [
    "raw_train.head()"
   ]
  },
  {
   "cell_type": "code",
   "execution_count": 115,
   "metadata": {
    "collapsed": false,
    "deletable": true,
    "editable": true
   },
   "outputs": [],
   "source": [
    "train = raw_train[raw_train.loc[:,'data_type']=='train'].drop(['data_type', 'era'], axis=1)\n",
    "train_eras = raw_train[raw_train.loc[:,'data_type']=='train']['era']\n",
    "\n",
    "valid = raw_test[raw_test.loc[:,'data_type']=='validation'].drop(['data_type', 'era'], axis=1)\n",
    "val_eras = raw_test[raw_test.loc[:,'data_type']=='validation']['era']\n",
    "\n",
    "test = raw_test[raw_test.loc[:,'data_type']=='test'].drop(['data_type', 'target', 'era'], axis=1)\n",
    "live = raw_test[raw_test.loc[:,'data_type']=='live'].drop(['data_type', 'target', 'era'], axis=1)"
   ]
  },
  {
   "cell_type": "code",
   "execution_count": 116,
   "metadata": {
    "collapsed": false,
    "deletable": true,
    "editable": true
   },
   "outputs": [],
   "source": [
    "x_train = train.drop(['target'], axis=1)\n",
    "x_val = valid.drop(['target'], axis=1)\n",
    "y_train = train['target']\n",
    "y_val = valid['target']"
   ]
  },
  {
   "cell_type": "code",
   "execution_count": 41,
   "metadata": {
    "collapsed": false,
    "deletable": true,
    "editable": true
   },
   "outputs": [
    {
     "data": {
      "text/html": [
       "<div>\n",
       "<table border=\"1\" class=\"dataframe\">\n",
       "  <thead>\n",
       "    <tr style=\"text-align: right;\">\n",
       "      <th></th>\n",
       "      <th>feature1</th>\n",
       "      <th>feature2</th>\n",
       "      <th>feature3</th>\n",
       "      <th>feature4</th>\n",
       "      <th>feature5</th>\n",
       "      <th>feature6</th>\n",
       "      <th>feature7</th>\n",
       "      <th>feature8</th>\n",
       "      <th>feature9</th>\n",
       "      <th>feature10</th>\n",
       "      <th>...</th>\n",
       "      <th>feature12</th>\n",
       "      <th>feature13</th>\n",
       "      <th>feature14</th>\n",
       "      <th>feature15</th>\n",
       "      <th>feature16</th>\n",
       "      <th>feature17</th>\n",
       "      <th>feature18</th>\n",
       "      <th>feature19</th>\n",
       "      <th>feature20</th>\n",
       "      <th>feature21</th>\n",
       "    </tr>\n",
       "    <tr>\n",
       "      <th>id</th>\n",
       "      <th></th>\n",
       "      <th></th>\n",
       "      <th></th>\n",
       "      <th></th>\n",
       "      <th></th>\n",
       "      <th></th>\n",
       "      <th></th>\n",
       "      <th></th>\n",
       "      <th></th>\n",
       "      <th></th>\n",
       "      <th></th>\n",
       "      <th></th>\n",
       "      <th></th>\n",
       "      <th></th>\n",
       "      <th></th>\n",
       "      <th></th>\n",
       "      <th></th>\n",
       "      <th></th>\n",
       "      <th></th>\n",
       "      <th></th>\n",
       "      <th></th>\n",
       "    </tr>\n",
       "  </thead>\n",
       "  <tbody>\n",
       "    <tr>\n",
       "      <th>518647</th>\n",
       "      <td>0.26647</td>\n",
       "      <td>0.42487</td>\n",
       "      <td>0.81401</td>\n",
       "      <td>0.22889</td>\n",
       "      <td>0.27456</td>\n",
       "      <td>0.55654</td>\n",
       "      <td>0.55310</td>\n",
       "      <td>0.71899</td>\n",
       "      <td>0.20496</td>\n",
       "      <td>0.62848</td>\n",
       "      <td>...</td>\n",
       "      <td>0.26651</td>\n",
       "      <td>0.18847</td>\n",
       "      <td>0.77235</td>\n",
       "      <td>0.55002</td>\n",
       "      <td>0.20237</td>\n",
       "      <td>0.79605</td>\n",
       "      <td>0.82971</td>\n",
       "      <td>0.45757</td>\n",
       "      <td>0.69761</td>\n",
       "      <td>0.53739</td>\n",
       "    </tr>\n",
       "    <tr>\n",
       "      <th>581542</th>\n",
       "      <td>0.41334</td>\n",
       "      <td>0.47533</td>\n",
       "      <td>0.71847</td>\n",
       "      <td>0.40792</td>\n",
       "      <td>0.32433</td>\n",
       "      <td>0.55806</td>\n",
       "      <td>0.59592</td>\n",
       "      <td>0.51830</td>\n",
       "      <td>0.25778</td>\n",
       "      <td>0.49711</td>\n",
       "      <td>...</td>\n",
       "      <td>0.37999</td>\n",
       "      <td>0.32083</td>\n",
       "      <td>0.72435</td>\n",
       "      <td>0.63751</td>\n",
       "      <td>0.29143</td>\n",
       "      <td>0.67860</td>\n",
       "      <td>0.70083</td>\n",
       "      <td>0.59967</td>\n",
       "      <td>0.53103</td>\n",
       "      <td>0.47446</td>\n",
       "    </tr>\n",
       "    <tr>\n",
       "      <th>630790</th>\n",
       "      <td>0.48937</td>\n",
       "      <td>0.56030</td>\n",
       "      <td>0.59150</td>\n",
       "      <td>0.46432</td>\n",
       "      <td>0.42291</td>\n",
       "      <td>0.54177</td>\n",
       "      <td>0.53542</td>\n",
       "      <td>0.50577</td>\n",
       "      <td>0.32740</td>\n",
       "      <td>0.58043</td>\n",
       "      <td>...</td>\n",
       "      <td>0.46203</td>\n",
       "      <td>0.42195</td>\n",
       "      <td>0.62651</td>\n",
       "      <td>0.51604</td>\n",
       "      <td>0.42938</td>\n",
       "      <td>0.56744</td>\n",
       "      <td>0.60008</td>\n",
       "      <td>0.46966</td>\n",
       "      <td>0.50322</td>\n",
       "      <td>0.42803</td>\n",
       "    </tr>\n",
       "    <tr>\n",
       "      <th>646251</th>\n",
       "      <td>0.61195</td>\n",
       "      <td>0.65958</td>\n",
       "      <td>0.45877</td>\n",
       "      <td>0.56730</td>\n",
       "      <td>0.51889</td>\n",
       "      <td>0.45049</td>\n",
       "      <td>0.56030</td>\n",
       "      <td>0.39115</td>\n",
       "      <td>0.33862</td>\n",
       "      <td>0.62694</td>\n",
       "      <td>...</td>\n",
       "      <td>0.61730</td>\n",
       "      <td>0.54803</td>\n",
       "      <td>0.59120</td>\n",
       "      <td>0.58160</td>\n",
       "      <td>0.51828</td>\n",
       "      <td>0.43870</td>\n",
       "      <td>0.47011</td>\n",
       "      <td>0.56007</td>\n",
       "      <td>0.36374</td>\n",
       "      <td>0.31552</td>\n",
       "    </tr>\n",
       "    <tr>\n",
       "      <th>558386</th>\n",
       "      <td>0.43758</td>\n",
       "      <td>0.50085</td>\n",
       "      <td>0.60446</td>\n",
       "      <td>0.46663</td>\n",
       "      <td>0.47157</td>\n",
       "      <td>0.59667</td>\n",
       "      <td>0.40161</td>\n",
       "      <td>0.56260</td>\n",
       "      <td>0.36587</td>\n",
       "      <td>0.61275</td>\n",
       "      <td>...</td>\n",
       "      <td>0.47069</td>\n",
       "      <td>0.40535</td>\n",
       "      <td>0.54366</td>\n",
       "      <td>0.44763</td>\n",
       "      <td>0.37668</td>\n",
       "      <td>0.59931</td>\n",
       "      <td>0.59539</td>\n",
       "      <td>0.43771</td>\n",
       "      <td>0.54767</td>\n",
       "      <td>0.43742</td>\n",
       "    </tr>\n",
       "  </tbody>\n",
       "</table>\n",
       "<p>5 rows × 21 columns</p>\n",
       "</div>"
      ],
      "text/plain": [
       "        feature1  feature2  feature3  feature4  feature5  feature6  feature7  \\\n",
       "id                                                                             \n",
       "518647   0.26647   0.42487   0.81401   0.22889   0.27456   0.55654   0.55310   \n",
       "581542   0.41334   0.47533   0.71847   0.40792   0.32433   0.55806   0.59592   \n",
       "630790   0.48937   0.56030   0.59150   0.46432   0.42291   0.54177   0.53542   \n",
       "646251   0.61195   0.65958   0.45877   0.56730   0.51889   0.45049   0.56030   \n",
       "558386   0.43758   0.50085   0.60446   0.46663   0.47157   0.59667   0.40161   \n",
       "\n",
       "        feature8  feature9  feature10    ...      feature12  feature13  \\\n",
       "id                                       ...                             \n",
       "518647   0.71899   0.20496    0.62848    ...        0.26651    0.18847   \n",
       "581542   0.51830   0.25778    0.49711    ...        0.37999    0.32083   \n",
       "630790   0.50577   0.32740    0.58043    ...        0.46203    0.42195   \n",
       "646251   0.39115   0.33862    0.62694    ...        0.61730    0.54803   \n",
       "558386   0.56260   0.36587    0.61275    ...        0.47069    0.40535   \n",
       "\n",
       "        feature14  feature15  feature16  feature17  feature18  feature19  \\\n",
       "id                                                                         \n",
       "518647    0.77235    0.55002    0.20237    0.79605    0.82971    0.45757   \n",
       "581542    0.72435    0.63751    0.29143    0.67860    0.70083    0.59967   \n",
       "630790    0.62651    0.51604    0.42938    0.56744    0.60008    0.46966   \n",
       "646251    0.59120    0.58160    0.51828    0.43870    0.47011    0.56007   \n",
       "558386    0.54366    0.44763    0.37668    0.59931    0.59539    0.43771   \n",
       "\n",
       "        feature20  feature21  \n",
       "id                            \n",
       "518647    0.69761    0.53739  \n",
       "581542    0.53103    0.47446  \n",
       "630790    0.50322    0.42803  \n",
       "646251    0.36374    0.31552  \n",
       "558386    0.54767    0.43742  \n",
       "\n",
       "[5 rows x 21 columns]"
      ]
     },
     "execution_count": 41,
     "metadata": {},
     "output_type": "execute_result"
    }
   ],
   "source": [
    "x_train.head()"
   ]
  },
  {
   "cell_type": "code",
   "execution_count": 341,
   "metadata": {
    "collapsed": false,
    "deletable": true,
    "editable": true
   },
   "outputs": [],
   "source": [
    "pca = PCA(n_components=19)\n",
    "x_train_pca = pca.fit_transform(x_train.values)\n",
    "#x_train_pca = x_train.values\n",
    "x_val_pca = pca.transform(x_val.values)\n",
    "#x_val_pca = x_val.values"
   ]
  },
  {
   "cell_type": "code",
   "execution_count": 342,
   "metadata": {
    "collapsed": false
   },
   "outputs": [],
   "source": [
    "logo = LeaveOneGroupOut()\n",
    "cv = logo.split(x_train_pca, y_train.values, eras.values)"
   ]
  },
  {
   "cell_type": "code",
   "execution_count": 343,
   "metadata": {
    "collapsed": false,
    "deletable": true,
    "editable": true
   },
   "outputs": [],
   "source": [
    "param_grid = {'n_estimators': [50, 100],\n",
    "              'max_depth': [6],\n",
    "              'min_samples_leaf': [1]}\n",
    "\n",
    "clf = RandomForestClassifier(random_state=42)\n",
    "\n",
    "grid_clf = GridSearchCV(clf, param_grid=param_grid, cv=5)"
   ]
  },
  {
   "cell_type": "code",
   "execution_count": 344,
   "metadata": {
    "collapsed": false,
    "deletable": true,
    "editable": true
   },
   "outputs": [
    {
     "data": {
      "text/plain": [
       "GridSearchCV(cv=5, error_score='raise',\n",
       "       estimator=RandomForestClassifier(bootstrap=True, class_weight=None, criterion='gini',\n",
       "            max_depth=None, max_features='auto', max_leaf_nodes=None,\n",
       "            min_impurity_split=1e-07, min_samples_leaf=1,\n",
       "            min_samples_split=2, min_weight_fraction_leaf=0.0,\n",
       "            n_estimators=10, n_jobs=1, oob_score=False, random_state=42,\n",
       "            verbose=0, warm_start=False),\n",
       "       fit_params={}, iid=True, n_jobs=1,\n",
       "       param_grid={'n_estimators': [35, 50], 'max_depth': [6], 'min_samples_leaf': [1, 3]},\n",
       "       pre_dispatch='2*n_jobs', refit=True, return_train_score=True,\n",
       "       scoring=None, verbose=0)"
      ]
     },
     "execution_count": 344,
     "metadata": {},
     "output_type": "execute_result"
    }
   ],
   "source": [
    "grid_clf.fit(x_train_pca, y_train.values)"
   ]
  },
  {
   "cell_type": "code",
   "execution_count": 345,
   "metadata": {
    "collapsed": false,
    "deletable": true,
    "editable": true
   },
   "outputs": [
    {
     "data": {
      "text/plain": [
       "{'max_depth': 6, 'min_samples_leaf': 1, 'n_estimators': 50}"
      ]
     },
     "execution_count": 345,
     "metadata": {},
     "output_type": "execute_result"
    }
   ],
   "source": [
    "grid_clf. best_params_"
   ]
  },
  {
   "cell_type": "code",
   "execution_count": 346,
   "metadata": {
    "collapsed": true
   },
   "outputs": [],
   "source": [
    "mod = grid_clf.best_estimator_"
   ]
  },
  {
   "cell_type": "code",
   "execution_count": 347,
   "metadata": {
    "collapsed": false,
    "deletable": true,
    "editable": true
   },
   "outputs": [
    {
     "name": "stdout",
     "output_type": "stream",
     "text": [
      "0.538360776717\n",
      "0.517259978425\n",
      "0.692260515823\n"
     ]
    }
   ],
   "source": [
    "print(mod.score(x_train_pca, y_train.values))\n",
    "print(mod.score(x_val_pca, y_val.values))\n",
    "print(log_loss(y_val.values, mod.predict_proba(x_val_pca)))"
   ]
  },
  {
   "cell_type": "code",
   "execution_count": 348,
   "metadata": {
    "collapsed": false,
    "scrolled": true
   },
   "outputs": [
    {
     "name": "stdout",
     "output_type": "stream",
     "text": [
      "0.691755726606\n",
      "0.690074284023\n",
      "0.695349366545\n",
      "0.695899246912\n",
      "0.692032526394\n",
      "0.691809089207\n",
      "0.695757142103\n",
      "0.693343938302\n",
      "0.690947521345\n",
      "0.690370583661\n",
      "0.689315820698\n",
      "0.690134475223\n",
      "0.333333333333\n"
     ]
    }
   ],
   "source": [
    "val_logo = LeaveOneGroupOut()\n",
    "scores = []\n",
    "\n",
    "fail = 0\n",
    "guessing = -log(.5)\n",
    "\n",
    "for _, index in val_logo.split(x_val_pca, y_val.values, val_eras.values):\n",
    "    score = log_loss(y_val.iloc[index].values, mod.predict_proba(x_val_pca[index,:]))\n",
    "    \n",
    "    print(score)\n",
    "    \n",
    "    if(score > guessing):\n",
    "        fail += 1\n",
    "    \n",
    "print(fail / 12.0)"
   ]
  },
  {
   "cell_type": "code",
   "execution_count": 340,
   "metadata": {
    "collapsed": false,
    "deletable": true,
    "editable": true
   },
   "outputs": [
    {
     "name": "stdout",
     "output_type": "stream",
     "text": [
      "(16686, 21)\n",
      "(27693, 21)\n",
      "(1246, 21)\n",
      "(45625, 21)\n"
     ]
    }
   ],
   "source": [
    "print(x_val.shape)\n",
    "print(test.shape)\n",
    "print(live.shape)\n",
    "to_pred = pd.concat([x_val,test,live])\n",
    "print(to_pred.shape)"
   ]
  },
  {
   "cell_type": "code",
   "execution_count": 318,
   "metadata": {
    "collapsed": false
   },
   "outputs": [
    {
     "ename": "NotFittedError",
     "evalue": "This PCA instance is not fitted yet. Call 'fit' with appropriate arguments before using this method.",
     "output_type": "error",
     "traceback": [
      "\u001b[0;31m\u001b[0m",
      "\u001b[0;31mNotFittedError\u001b[0mTraceback (most recent call last)",
      "\u001b[0;32m<ipython-input-318-6e7df713bf37>\u001b[0m in \u001b[0;36m<module>\u001b[0;34m()\u001b[0m\n\u001b[0;32m----> 1\u001b[0;31m \u001b[0mpred_pca\u001b[0m \u001b[0;34m=\u001b[0m \u001b[0mpca\u001b[0m\u001b[0;34m.\u001b[0m\u001b[0mtransform\u001b[0m\u001b[0;34m(\u001b[0m\u001b[0mto_pred\u001b[0m\u001b[0;34m.\u001b[0m\u001b[0mvalues\u001b[0m\u001b[0;34m)\u001b[0m\u001b[0;34m\u001b[0m\u001b[0m\n\u001b[0m",
      "\u001b[0;32m/usr/local/lib/python2.7/site-packages/sklearn/decomposition/base.pyc\u001b[0m in \u001b[0;36mtransform\u001b[0;34m(self, X, y)\u001b[0m\n\u001b[1;32m    126\u001b[0m         \u001b[0;34m>>\u001b[0m\u001b[0;34m>\u001b[0m \u001b[0mipca\u001b[0m\u001b[0;34m.\u001b[0m\u001b[0mtransform\u001b[0m\u001b[0;34m(\u001b[0m\u001b[0mX\u001b[0m\u001b[0;34m)\u001b[0m \u001b[0;31m# doctest: +SKIP\u001b[0m\u001b[0;34m\u001b[0m\u001b[0m\n\u001b[1;32m    127\u001b[0m         \"\"\"\n\u001b[0;32m--> 128\u001b[0;31m         \u001b[0mcheck_is_fitted\u001b[0m\u001b[0;34m(\u001b[0m\u001b[0mself\u001b[0m\u001b[0;34m,\u001b[0m \u001b[0;34m[\u001b[0m\u001b[0;34m'mean_'\u001b[0m\u001b[0;34m,\u001b[0m \u001b[0;34m'components_'\u001b[0m\u001b[0;34m]\u001b[0m\u001b[0;34m,\u001b[0m \u001b[0mall_or_any\u001b[0m\u001b[0;34m=\u001b[0m\u001b[0mall\u001b[0m\u001b[0;34m)\u001b[0m\u001b[0;34m\u001b[0m\u001b[0m\n\u001b[0m\u001b[1;32m    129\u001b[0m \u001b[0;34m\u001b[0m\u001b[0m\n\u001b[1;32m    130\u001b[0m         \u001b[0mX\u001b[0m \u001b[0;34m=\u001b[0m \u001b[0mcheck_array\u001b[0m\u001b[0;34m(\u001b[0m\u001b[0mX\u001b[0m\u001b[0;34m)\u001b[0m\u001b[0;34m\u001b[0m\u001b[0m\n",
      "\u001b[0;32m/usr/local/lib/python2.7/site-packages/sklearn/utils/validation.pyc\u001b[0m in \u001b[0;36mcheck_is_fitted\u001b[0;34m(estimator, attributes, msg, all_or_any)\u001b[0m\n\u001b[1;32m    688\u001b[0m     \u001b[0;32mif\u001b[0m \u001b[0;32mnot\u001b[0m \u001b[0mall_or_any\u001b[0m\u001b[0;34m(\u001b[0m\u001b[0;34m[\u001b[0m\u001b[0mhasattr\u001b[0m\u001b[0;34m(\u001b[0m\u001b[0mestimator\u001b[0m\u001b[0;34m,\u001b[0m \u001b[0mattr\u001b[0m\u001b[0;34m)\u001b[0m \u001b[0;32mfor\u001b[0m \u001b[0mattr\u001b[0m \u001b[0;32min\u001b[0m \u001b[0mattributes\u001b[0m\u001b[0;34m]\u001b[0m\u001b[0;34m)\u001b[0m\u001b[0;34m:\u001b[0m\u001b[0;34m\u001b[0m\u001b[0m\n\u001b[1;32m    689\u001b[0m         \u001b[0;31m# FIXME NotFittedError_ --> NotFittedError in 0.19\u001b[0m\u001b[0;34m\u001b[0m\u001b[0;34m\u001b[0m\u001b[0m\n\u001b[0;32m--> 690\u001b[0;31m         \u001b[0;32mraise\u001b[0m \u001b[0m_NotFittedError\u001b[0m\u001b[0;34m(\u001b[0m\u001b[0mmsg\u001b[0m \u001b[0;34m%\u001b[0m \u001b[0;34m{\u001b[0m\u001b[0;34m'name'\u001b[0m\u001b[0;34m:\u001b[0m \u001b[0mtype\u001b[0m\u001b[0;34m(\u001b[0m\u001b[0mestimator\u001b[0m\u001b[0;34m)\u001b[0m\u001b[0;34m.\u001b[0m\u001b[0m__name__\u001b[0m\u001b[0;34m}\u001b[0m\u001b[0;34m)\u001b[0m\u001b[0;34m\u001b[0m\u001b[0m\n\u001b[0m\u001b[1;32m    691\u001b[0m \u001b[0;34m\u001b[0m\u001b[0m\n\u001b[1;32m    692\u001b[0m \u001b[0;34m\u001b[0m\u001b[0m\n",
      "\u001b[0;31mNotFittedError\u001b[0m: This PCA instance is not fitted yet. Call 'fit' with appropriate arguments before using this method."
     ]
    }
   ],
   "source": [
    "pred_pca = pca.transform(to_pred.values)"
   ]
  },
  {
   "cell_type": "code",
   "execution_count": 323,
   "metadata": {
    "collapsed": false,
    "deletable": true,
    "editable": true
   },
   "outputs": [],
   "source": [
    "preds = mod.predict_proba(pred_pca)[:,1]\n",
    "#preds = mod.predict_proba(to_pred.values)[:,1]"
   ]
  },
  {
   "cell_type": "code",
   "execution_count": 324,
   "metadata": {
    "collapsed": false,
    "deletable": true,
    "editable": true
   },
   "outputs": [
    {
     "data": {
      "text/html": [
       "<div>\n",
       "<table border=\"1\" class=\"dataframe\">\n",
       "  <thead>\n",
       "    <tr style=\"text-align: right;\">\n",
       "      <th></th>\n",
       "      <th>id</th>\n",
       "      <th>probability</th>\n",
       "    </tr>\n",
       "  </thead>\n",
       "  <tbody>\n",
       "    <tr>\n",
       "      <th>0</th>\n",
       "      <td>535632</td>\n",
       "      <td>0.521102</td>\n",
       "    </tr>\n",
       "    <tr>\n",
       "      <th>1</th>\n",
       "      <td>526056</td>\n",
       "      <td>0.488422</td>\n",
       "    </tr>\n",
       "    <tr>\n",
       "      <th>2</th>\n",
       "      <td>621500</td>\n",
       "      <td>0.513818</td>\n",
       "    </tr>\n",
       "    <tr>\n",
       "      <th>3</th>\n",
       "      <td>561590</td>\n",
       "      <td>0.477882</td>\n",
       "    </tr>\n",
       "    <tr>\n",
       "      <th>4</th>\n",
       "      <td>523587</td>\n",
       "      <td>0.517308</td>\n",
       "    </tr>\n",
       "  </tbody>\n",
       "</table>\n",
       "</div>"
      ],
      "text/plain": [
       "       id  probability\n",
       "0  535632     0.521102\n",
       "1  526056     0.488422\n",
       "2  621500     0.513818\n",
       "3  561590     0.477882\n",
       "4  523587     0.517308"
      ]
     },
     "execution_count": 324,
     "metadata": {},
     "output_type": "execute_result"
    }
   ],
   "source": [
    "sub = pd.concat([pd.Series(to_pred.index), pd.Series(preds)], axis=1)\n",
    "sub.columns = ['id', 'probability']\n",
    "sub.head()"
   ]
  },
  {
   "cell_type": "code",
   "execution_count": 325,
   "metadata": {
    "collapsed": false,
    "deletable": true,
    "editable": true
   },
   "outputs": [
    {
     "data": {
      "text/html": [
       "<div>\n",
       "<table border=\"1\" class=\"dataframe\">\n",
       "  <thead>\n",
       "    <tr style=\"text-align: right;\">\n",
       "      <th></th>\n",
       "      <th>id</th>\n",
       "      <th>probability</th>\n",
       "    </tr>\n",
       "  </thead>\n",
       "  <tbody>\n",
       "    <tr>\n",
       "      <th>count</th>\n",
       "      <td>45625.000000</td>\n",
       "      <td>45625.000000</td>\n",
       "    </tr>\n",
       "    <tr>\n",
       "      <th>mean</th>\n",
       "      <td>587661.584285</td>\n",
       "      <td>0.504372</td>\n",
       "    </tr>\n",
       "    <tr>\n",
       "      <th>std</th>\n",
       "      <td>44456.299783</td>\n",
       "      <td>0.015447</td>\n",
       "    </tr>\n",
       "    <tr>\n",
       "      <th>min</th>\n",
       "      <td>511026.000000</td>\n",
       "      <td>0.359975</td>\n",
       "    </tr>\n",
       "    <tr>\n",
       "      <th>25%</th>\n",
       "      <td>549026.000000</td>\n",
       "      <td>0.495349</td>\n",
       "    </tr>\n",
       "    <tr>\n",
       "      <th>50%</th>\n",
       "      <td>587541.000000</td>\n",
       "      <td>0.504477</td>\n",
       "    </tr>\n",
       "    <tr>\n",
       "      <th>75%</th>\n",
       "      <td>625886.000000</td>\n",
       "      <td>0.515017</td>\n",
       "    </tr>\n",
       "    <tr>\n",
       "      <th>max</th>\n",
       "      <td>665047.000000</td>\n",
       "      <td>0.658474</td>\n",
       "    </tr>\n",
       "  </tbody>\n",
       "</table>\n",
       "</div>"
      ],
      "text/plain": [
       "                  id   probability\n",
       "count   45625.000000  45625.000000\n",
       "mean   587661.584285      0.504372\n",
       "std     44456.299783      0.015447\n",
       "min    511026.000000      0.359975\n",
       "25%    549026.000000      0.495349\n",
       "50%    587541.000000      0.504477\n",
       "75%    625886.000000      0.515017\n",
       "max    665047.000000      0.658474"
      ]
     },
     "execution_count": 325,
     "metadata": {},
     "output_type": "execute_result"
    }
   ],
   "source": [
    "sub.describe()"
   ]
  },
  {
   "cell_type": "code",
   "execution_count": 326,
   "metadata": {
    "collapsed": true,
    "deletable": true,
    "editable": true
   },
   "outputs": [],
   "source": [
    "sub.to_csv('sub16_sk_pcarf.csv', index=False)"
   ]
  },
  {
   "cell_type": "code",
   "execution_count": null,
   "metadata": {
    "collapsed": true,
    "deletable": true,
    "editable": true
   },
   "outputs": [],
   "source": []
  }
 ],
 "metadata": {
  "kernelspec": {
   "display_name": "Python 2",
   "language": "python",
   "name": "python2"
  },
  "language_info": {
   "codemirror_mode": {
    "name": "ipython",
    "version": 2
   },
   "file_extension": ".py",
   "mimetype": "text/x-python",
   "name": "python",
   "nbconvert_exporter": "python",
   "pygments_lexer": "ipython2",
   "version": "2.7.13"
  }
 },
 "nbformat": 4,
 "nbformat_minor": 2
}
