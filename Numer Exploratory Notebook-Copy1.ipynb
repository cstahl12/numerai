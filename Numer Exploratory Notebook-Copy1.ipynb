{
 "cells": [
  {
   "cell_type": "markdown",
   "metadata": {
    "deletable": true,
    "editable": true
   },
   "source": [
    "#### Load data"
   ]
  },
  {
   "cell_type": "code",
   "execution_count": 1,
   "metadata": {
    "collapsed": true,
    "deletable": true,
    "editable": true
   },
   "outputs": [],
   "source": [
    "import numpy as np\n",
    "import pandas as pd\n",
    "import matplotlib.pyplot as plt"
   ]
  },
  {
   "cell_type": "code",
   "execution_count": 76,
   "metadata": {
    "collapsed": false
   },
   "outputs": [],
   "source": [
    "from sklearn.preprocessing import LabelEncoder\n",
    "from sklearn.decomposition import PCA\n",
    "from sklearn.cluster import KMeans\n",
    "from sklearn.metrics import log_loss\n",
    "from sklearn.model_selection import LeaveOneGroupOut, GridSearchCV"
   ]
  },
  {
   "cell_type": "code",
   "execution_count": 3,
   "metadata": {
    "collapsed": true
   },
   "outputs": [],
   "source": [
    "from sklearn.ensemble import RandomForestClassifier, GradientBoostingClassifier\n",
    "from sklearn.svm import SVC\n",
    "from sklearn.tree import DecisionTreeClassifier\n",
    "from sklearn.neighbors import KNeighborsClassifier"
   ]
  },
  {
   "cell_type": "code",
   "execution_count": 4,
   "metadata": {
    "collapsed": false
   },
   "outputs": [
    {
     "name": "stderr",
     "output_type": "stream",
     "text": [
      "Using TensorFlow backend.\n"
     ]
    }
   ],
   "source": [
    "from keras.models import Sequential\n",
    "from keras.layers import Dense, Activation, Dropout"
   ]
  },
  {
   "cell_type": "code",
   "execution_count": 68,
   "metadata": {
    "collapsed": false,
    "deletable": true,
    "editable": true
   },
   "outputs": [],
   "source": [
    "raw_train = pd.read_csv('data/train.csv')\n",
    "raw_test = pd.read_csv('data/test.csv')"
   ]
  },
  {
   "cell_type": "code",
   "execution_count": 69,
   "metadata": {
    "collapsed": false
   },
   "outputs": [
    {
     "data": {
      "text/html": [
       "<div>\n",
       "<table border=\"1\" class=\"dataframe\">\n",
       "  <thead>\n",
       "    <tr style=\"text-align: right;\">\n",
       "      <th></th>\n",
       "      <th>id</th>\n",
       "      <th>era</th>\n",
       "      <th>data_type</th>\n",
       "      <th>feature1</th>\n",
       "      <th>feature2</th>\n",
       "      <th>feature3</th>\n",
       "      <th>feature4</th>\n",
       "      <th>feature5</th>\n",
       "      <th>feature6</th>\n",
       "      <th>feature7</th>\n",
       "      <th>...</th>\n",
       "      <th>feature13</th>\n",
       "      <th>feature14</th>\n",
       "      <th>feature15</th>\n",
       "      <th>feature16</th>\n",
       "      <th>feature17</th>\n",
       "      <th>feature18</th>\n",
       "      <th>feature19</th>\n",
       "      <th>feature20</th>\n",
       "      <th>feature21</th>\n",
       "      <th>target</th>\n",
       "    </tr>\n",
       "  </thead>\n",
       "  <tbody>\n",
       "    <tr>\n",
       "      <th>0</th>\n",
       "      <td>518647</td>\n",
       "      <td>era1</td>\n",
       "      <td>train</td>\n",
       "      <td>0.26647</td>\n",
       "      <td>0.42487</td>\n",
       "      <td>0.81401</td>\n",
       "      <td>0.22889</td>\n",
       "      <td>0.27456</td>\n",
       "      <td>0.55654</td>\n",
       "      <td>0.55310</td>\n",
       "      <td>...</td>\n",
       "      <td>0.18847</td>\n",
       "      <td>0.77235</td>\n",
       "      <td>0.55002</td>\n",
       "      <td>0.20237</td>\n",
       "      <td>0.79605</td>\n",
       "      <td>0.82971</td>\n",
       "      <td>0.45757</td>\n",
       "      <td>0.69761</td>\n",
       "      <td>0.53739</td>\n",
       "      <td>1</td>\n",
       "    </tr>\n",
       "    <tr>\n",
       "      <th>1</th>\n",
       "      <td>581542</td>\n",
       "      <td>era1</td>\n",
       "      <td>train</td>\n",
       "      <td>0.41334</td>\n",
       "      <td>0.47533</td>\n",
       "      <td>0.71847</td>\n",
       "      <td>0.40792</td>\n",
       "      <td>0.32433</td>\n",
       "      <td>0.55806</td>\n",
       "      <td>0.59592</td>\n",
       "      <td>...</td>\n",
       "      <td>0.32083</td>\n",
       "      <td>0.72435</td>\n",
       "      <td>0.63751</td>\n",
       "      <td>0.29143</td>\n",
       "      <td>0.67860</td>\n",
       "      <td>0.70083</td>\n",
       "      <td>0.59967</td>\n",
       "      <td>0.53103</td>\n",
       "      <td>0.47446</td>\n",
       "      <td>1</td>\n",
       "    </tr>\n",
       "    <tr>\n",
       "      <th>2</th>\n",
       "      <td>630790</td>\n",
       "      <td>era1</td>\n",
       "      <td>train</td>\n",
       "      <td>0.48937</td>\n",
       "      <td>0.56030</td>\n",
       "      <td>0.59150</td>\n",
       "      <td>0.46432</td>\n",
       "      <td>0.42291</td>\n",
       "      <td>0.54177</td>\n",
       "      <td>0.53542</td>\n",
       "      <td>...</td>\n",
       "      <td>0.42195</td>\n",
       "      <td>0.62651</td>\n",
       "      <td>0.51604</td>\n",
       "      <td>0.42938</td>\n",
       "      <td>0.56744</td>\n",
       "      <td>0.60008</td>\n",
       "      <td>0.46966</td>\n",
       "      <td>0.50322</td>\n",
       "      <td>0.42803</td>\n",
       "      <td>1</td>\n",
       "    </tr>\n",
       "    <tr>\n",
       "      <th>3</th>\n",
       "      <td>646251</td>\n",
       "      <td>era1</td>\n",
       "      <td>train</td>\n",
       "      <td>0.61195</td>\n",
       "      <td>0.65958</td>\n",
       "      <td>0.45877</td>\n",
       "      <td>0.56730</td>\n",
       "      <td>0.51889</td>\n",
       "      <td>0.45049</td>\n",
       "      <td>0.56030</td>\n",
       "      <td>...</td>\n",
       "      <td>0.54803</td>\n",
       "      <td>0.59120</td>\n",
       "      <td>0.58160</td>\n",
       "      <td>0.51828</td>\n",
       "      <td>0.43870</td>\n",
       "      <td>0.47011</td>\n",
       "      <td>0.56007</td>\n",
       "      <td>0.36374</td>\n",
       "      <td>0.31552</td>\n",
       "      <td>1</td>\n",
       "    </tr>\n",
       "    <tr>\n",
       "      <th>4</th>\n",
       "      <td>558386</td>\n",
       "      <td>era1</td>\n",
       "      <td>train</td>\n",
       "      <td>0.43758</td>\n",
       "      <td>0.50085</td>\n",
       "      <td>0.60446</td>\n",
       "      <td>0.46663</td>\n",
       "      <td>0.47157</td>\n",
       "      <td>0.59667</td>\n",
       "      <td>0.40161</td>\n",
       "      <td>...</td>\n",
       "      <td>0.40535</td>\n",
       "      <td>0.54366</td>\n",
       "      <td>0.44763</td>\n",
       "      <td>0.37668</td>\n",
       "      <td>0.59931</td>\n",
       "      <td>0.59539</td>\n",
       "      <td>0.43771</td>\n",
       "      <td>0.54767</td>\n",
       "      <td>0.43742</td>\n",
       "      <td>1</td>\n",
       "    </tr>\n",
       "  </tbody>\n",
       "</table>\n",
       "<p>5 rows × 25 columns</p>\n",
       "</div>"
      ],
      "text/plain": [
       "       id   era data_type  feature1  feature2  feature3  feature4  feature5  \\\n",
       "0  518647  era1     train   0.26647   0.42487   0.81401   0.22889   0.27456   \n",
       "1  581542  era1     train   0.41334   0.47533   0.71847   0.40792   0.32433   \n",
       "2  630790  era1     train   0.48937   0.56030   0.59150   0.46432   0.42291   \n",
       "3  646251  era1     train   0.61195   0.65958   0.45877   0.56730   0.51889   \n",
       "4  558386  era1     train   0.43758   0.50085   0.60446   0.46663   0.47157   \n",
       "\n",
       "   feature6  feature7   ...    feature13  feature14  feature15  feature16  \\\n",
       "0   0.55654   0.55310   ...      0.18847    0.77235    0.55002    0.20237   \n",
       "1   0.55806   0.59592   ...      0.32083    0.72435    0.63751    0.29143   \n",
       "2   0.54177   0.53542   ...      0.42195    0.62651    0.51604    0.42938   \n",
       "3   0.45049   0.56030   ...      0.54803    0.59120    0.58160    0.51828   \n",
       "4   0.59667   0.40161   ...      0.40535    0.54366    0.44763    0.37668   \n",
       "\n",
       "   feature17  feature18  feature19  feature20  feature21  target  \n",
       "0    0.79605    0.82971    0.45757    0.69761    0.53739       1  \n",
       "1    0.67860    0.70083    0.59967    0.53103    0.47446       1  \n",
       "2    0.56744    0.60008    0.46966    0.50322    0.42803       1  \n",
       "3    0.43870    0.47011    0.56007    0.36374    0.31552       1  \n",
       "4    0.59931    0.59539    0.43771    0.54767    0.43742       1  \n",
       "\n",
       "[5 rows x 25 columns]"
      ]
     },
     "execution_count": 69,
     "metadata": {},
     "output_type": "execute_result"
    }
   ],
   "source": [
    "raw_train.head()"
   ]
  },
  {
   "cell_type": "code",
   "execution_count": 72,
   "metadata": {
    "collapsed": false
   },
   "outputs": [],
   "source": [
    "all_data = pd.concat([raw_train,raw_test])\n",
    "proc = all_data"
   ]
  },
  {
   "cell_type": "code",
   "execution_count": 73,
   "metadata": {
    "collapsed": false
   },
   "outputs": [],
   "source": [
    "train = proc[proc.loc[:,'data_type']=='train'].drop(['data_type'], axis=1)\n",
    "valid = proc[proc.loc[:,'data_type']=='validation'].drop(['data_type'], axis=1)\n",
    "test = proc[proc.loc[:,'data_type']=='test'].drop(['data_type', 'target'], axis=1)\n",
    "live = proc[proc.loc[:,'data_type']=='live'].drop(['data_type', 'target'], axis=1)"
   ]
  },
  {
   "cell_type": "code",
   "execution_count": 86,
   "metadata": {
    "collapsed": false
   },
   "outputs": [],
   "source": [
    "x_train = train.drop(['target'], axis=1)\n",
    "x_val = valid.drop(['target'], axis=1)\n",
    "y_train = train['target']\n",
    "y_val = valid['target']"
   ]
  },
  {
   "cell_type": "code",
   "execution_count": 87,
   "metadata": {
    "collapsed": false
   },
   "outputs": [
    {
     "data": {
      "text/plain": [
       "96"
      ]
     },
     "execution_count": 87,
     "metadata": {},
     "output_type": "execute_result"
    }
   ],
   "source": [
    "logo = LeaveOneGroupOut()\n",
    "groups = LabelEncoder().fit_transform(x_train['era'])\n",
    "logo.get_n_splits(x_train, y_train, groups)"
   ]
  },
  {
   "cell_type": "code",
   "execution_count": 90,
   "metadata": {
    "collapsed": false
   },
   "outputs": [],
   "source": [
    "param_grid = {'n_estimators': [5, 10],\n",
    "              'max_depth': [5, 7, 9]}\n",
    "\n",
    "clf = RandomForestClassifier(random_state=42)\n",
    "\n",
    "cv = logo.split(x_train.drop(['era'],axis=1).values, y_train.values, groups)\n",
    "\n",
    "grid_clf = GridSearchCV(clf, param_grid=param_grid, cv=5)"
   ]
  },
  {
   "cell_type": "code",
   "execution_count": 91,
   "metadata": {
    "collapsed": false
   },
   "outputs": [
    {
     "data": {
      "text/plain": [
       "GridSearchCV(cv=5, error_score='raise',\n",
       "       estimator=RandomForestClassifier(bootstrap=True, class_weight=None, criterion='gini',\n",
       "            max_depth=None, max_features='auto', max_leaf_nodes=None,\n",
       "            min_impurity_split=1e-07, min_samples_leaf=1,\n",
       "            min_samples_split=2, min_weight_fraction_leaf=0.0,\n",
       "            n_estimators=10, n_jobs=1, oob_score=False, random_state=42,\n",
       "            verbose=0, warm_start=False),\n",
       "       fit_params={}, iid=True, n_jobs=1,\n",
       "       param_grid={'n_estimators': [5, 10], 'max_depth': [5, 7, 9]},\n",
       "       pre_dispatch='2*n_jobs', refit=True, return_train_score=True,\n",
       "       scoring=None, verbose=0)"
      ]
     },
     "execution_count": 91,
     "metadata": {},
     "output_type": "execute_result"
    }
   ],
   "source": [
    "grid_clf.fit(x_train.drop(['era'],axis=1).values, y_train.values)"
   ]
  },
  {
   "cell_type": "code",
   "execution_count": 92,
   "metadata": {
    "collapsed": false
   },
   "outputs": [
    {
     "data": {
      "text/plain": [
       "{'max_depth': 5, 'n_estimators': 10}"
      ]
     },
     "execution_count": 92,
     "metadata": {},
     "output_type": "execute_result"
    }
   ],
   "source": [
    "grid_clf. best_params_"
   ]
  },
  {
   "cell_type": "code",
   "execution_count": 18,
   "metadata": {
    "collapsed": false
   },
   "outputs": [],
   "source": [
    "pca = PCA(n_components=2)\n",
    "x_train_pca = pca.fit_transform(x_train.drop(['id'], axis=1).values)\n",
    "x_val_pca = pca.transform(x_val.drop(['id'], axis=1).values)"
   ]
  },
  {
   "cell_type": "code",
   "execution_count": 19,
   "metadata": {
    "collapsed": false
   },
   "outputs": [],
   "source": [
    "plotx = x_val_pca[:,1]\n",
    "ploty = x_val_pca[:,0]"
   ]
  },
  {
   "cell_type": "markdown",
   "metadata": {},
   "source": [
    "#### Random Forest Model"
   ]
  },
  {
   "cell_type": "code",
   "execution_count": 21,
   "metadata": {
    "collapsed": false
   },
   "outputs": [
    {
     "data": {
      "text/html": [
       "<div>\n",
       "<table border=\"1\" class=\"dataframe\">\n",
       "  <thead>\n",
       "    <tr style=\"text-align: right;\">\n",
       "      <th></th>\n",
       "      <th>id</th>\n",
       "      <th>target</th>\n",
       "      <th>class_0</th>\n",
       "      <th>class_1</th>\n",
       "    </tr>\n",
       "  </thead>\n",
       "  <tbody>\n",
       "    <tr>\n",
       "      <th>0</th>\n",
       "      <td>518647</td>\n",
       "      <td>1.0</td>\n",
       "      <td>0</td>\n",
       "      <td>1</td>\n",
       "    </tr>\n",
       "    <tr>\n",
       "      <th>1</th>\n",
       "      <td>581542</td>\n",
       "      <td>1.0</td>\n",
       "      <td>0</td>\n",
       "      <td>1</td>\n",
       "    </tr>\n",
       "    <tr>\n",
       "      <th>2</th>\n",
       "      <td>630790</td>\n",
       "      <td>1.0</td>\n",
       "      <td>0</td>\n",
       "      <td>1</td>\n",
       "    </tr>\n",
       "    <tr>\n",
       "      <th>3</th>\n",
       "      <td>646251</td>\n",
       "      <td>1.0</td>\n",
       "      <td>0</td>\n",
       "      <td>1</td>\n",
       "    </tr>\n",
       "    <tr>\n",
       "      <th>4</th>\n",
       "      <td>558386</td>\n",
       "      <td>1.0</td>\n",
       "      <td>0</td>\n",
       "      <td>1</td>\n",
       "    </tr>\n",
       "  </tbody>\n",
       "</table>\n",
       "</div>"
      ],
      "text/plain": [
       "       id  target  class_0  class_1\n",
       "0  518647     1.0        0        1\n",
       "1  581542     1.0        0        1\n",
       "2  630790     1.0        0        1\n",
       "3  646251     1.0        0        1\n",
       "4  558386     1.0        0        1"
      ]
     },
     "execution_count": 21,
     "metadata": {},
     "output_type": "execute_result"
    }
   ],
   "source": [
    "y_train.head()"
   ]
  },
  {
   "cell_type": "code",
   "execution_count": 67,
   "metadata": {
    "collapsed": true
   },
   "outputs": [],
   "source": [
    "yt = y_train['target'].values\n",
    "yv = y_val['target'].values\n",
    "xt = x_train.drop(['id','cluster'],axis=1).values\n",
    "xv = x_val.drop(['id','cluster'],axis=1).values"
   ]
  },
  {
   "cell_type": "code",
   "execution_count": null,
   "metadata": {
    "collapsed": true
   },
   "outputs": [],
   "source": []
  },
  {
   "cell_type": "code",
   "execution_count": 56,
   "metadata": {
    "collapsed": false
   },
   "outputs": [
    {
     "name": "stdout",
     "output_type": "stream",
     "text": [
      "0.527162031272\n",
      "0.513244636222\n"
     ]
    }
   ],
   "source": [
    "rf = RandomForestClassifier(random_state=42, max_depth=4, n_estimators=125)\n",
    "rf.fit(xt, yt)\n",
    "print(rf.score(xt, yt))\n",
    "print(rf.score(xv, yv))"
   ]
  },
  {
   "cell_type": "code",
   "execution_count": 58,
   "metadata": {
    "collapsed": false
   },
   "outputs": [
    {
     "data": {
      "text/plain": [
       "0.69261735626667043"
      ]
     },
     "execution_count": 58,
     "metadata": {},
     "output_type": "execute_result"
    }
   ],
   "source": [
    "log_loss(yv, rf.predict_proba(xv))"
   ]
  },
  {
   "cell_type": "code",
   "execution_count": 44,
   "metadata": {
    "collapsed": false
   },
   "outputs": [
    {
     "data": {
      "text/html": [
       "<div>\n",
       "<table border=\"1\" class=\"dataframe\">\n",
       "  <thead>\n",
       "    <tr style=\"text-align: right;\">\n",
       "      <th></th>\n",
       "      <th>id</th>\n",
       "      <th>feature1</th>\n",
       "      <th>feature2</th>\n",
       "      <th>feature3</th>\n",
       "      <th>feature4</th>\n",
       "      <th>feature5</th>\n",
       "      <th>feature6</th>\n",
       "      <th>feature7</th>\n",
       "      <th>feature8</th>\n",
       "      <th>feature9</th>\n",
       "      <th>...</th>\n",
       "      <th>feature13</th>\n",
       "      <th>feature14</th>\n",
       "      <th>feature15</th>\n",
       "      <th>feature16</th>\n",
       "      <th>feature17</th>\n",
       "      <th>feature18</th>\n",
       "      <th>feature19</th>\n",
       "      <th>feature20</th>\n",
       "      <th>feature21</th>\n",
       "      <th>cluster</th>\n",
       "    </tr>\n",
       "  </thead>\n",
       "  <tbody>\n",
       "    <tr>\n",
       "      <th>0</th>\n",
       "      <td>518647</td>\n",
       "      <td>0.26647</td>\n",
       "      <td>0.42487</td>\n",
       "      <td>0.81401</td>\n",
       "      <td>0.22889</td>\n",
       "      <td>0.27456</td>\n",
       "      <td>0.55654</td>\n",
       "      <td>0.55310</td>\n",
       "      <td>0.71899</td>\n",
       "      <td>0.20496</td>\n",
       "      <td>...</td>\n",
       "      <td>0.18847</td>\n",
       "      <td>0.77235</td>\n",
       "      <td>0.55002</td>\n",
       "      <td>0.20237</td>\n",
       "      <td>0.79605</td>\n",
       "      <td>0.82971</td>\n",
       "      <td>0.45757</td>\n",
       "      <td>0.69761</td>\n",
       "      <td>0.53739</td>\n",
       "      <td>3</td>\n",
       "    </tr>\n",
       "    <tr>\n",
       "      <th>1</th>\n",
       "      <td>581542</td>\n",
       "      <td>0.41334</td>\n",
       "      <td>0.47533</td>\n",
       "      <td>0.71847</td>\n",
       "      <td>0.40792</td>\n",
       "      <td>0.32433</td>\n",
       "      <td>0.55806</td>\n",
       "      <td>0.59592</td>\n",
       "      <td>0.51830</td>\n",
       "      <td>0.25778</td>\n",
       "      <td>...</td>\n",
       "      <td>0.32083</td>\n",
       "      <td>0.72435</td>\n",
       "      <td>0.63751</td>\n",
       "      <td>0.29143</td>\n",
       "      <td>0.67860</td>\n",
       "      <td>0.70083</td>\n",
       "      <td>0.59967</td>\n",
       "      <td>0.53103</td>\n",
       "      <td>0.47446</td>\n",
       "      <td>4</td>\n",
       "    </tr>\n",
       "    <tr>\n",
       "      <th>2</th>\n",
       "      <td>630790</td>\n",
       "      <td>0.48937</td>\n",
       "      <td>0.56030</td>\n",
       "      <td>0.59150</td>\n",
       "      <td>0.46432</td>\n",
       "      <td>0.42291</td>\n",
       "      <td>0.54177</td>\n",
       "      <td>0.53542</td>\n",
       "      <td>0.50577</td>\n",
       "      <td>0.32740</td>\n",
       "      <td>...</td>\n",
       "      <td>0.42195</td>\n",
       "      <td>0.62651</td>\n",
       "      <td>0.51604</td>\n",
       "      <td>0.42938</td>\n",
       "      <td>0.56744</td>\n",
       "      <td>0.60008</td>\n",
       "      <td>0.46966</td>\n",
       "      <td>0.50322</td>\n",
       "      <td>0.42803</td>\n",
       "      <td>2</td>\n",
       "    </tr>\n",
       "    <tr>\n",
       "      <th>3</th>\n",
       "      <td>646251</td>\n",
       "      <td>0.61195</td>\n",
       "      <td>0.65958</td>\n",
       "      <td>0.45877</td>\n",
       "      <td>0.56730</td>\n",
       "      <td>0.51889</td>\n",
       "      <td>0.45049</td>\n",
       "      <td>0.56030</td>\n",
       "      <td>0.39115</td>\n",
       "      <td>0.33862</td>\n",
       "      <td>...</td>\n",
       "      <td>0.54803</td>\n",
       "      <td>0.59120</td>\n",
       "      <td>0.58160</td>\n",
       "      <td>0.51828</td>\n",
       "      <td>0.43870</td>\n",
       "      <td>0.47011</td>\n",
       "      <td>0.56007</td>\n",
       "      <td>0.36374</td>\n",
       "      <td>0.31552</td>\n",
       "      <td>0</td>\n",
       "    </tr>\n",
       "    <tr>\n",
       "      <th>4</th>\n",
       "      <td>558386</td>\n",
       "      <td>0.43758</td>\n",
       "      <td>0.50085</td>\n",
       "      <td>0.60446</td>\n",
       "      <td>0.46663</td>\n",
       "      <td>0.47157</td>\n",
       "      <td>0.59667</td>\n",
       "      <td>0.40161</td>\n",
       "      <td>0.56260</td>\n",
       "      <td>0.36587</td>\n",
       "      <td>...</td>\n",
       "      <td>0.40535</td>\n",
       "      <td>0.54366</td>\n",
       "      <td>0.44763</td>\n",
       "      <td>0.37668</td>\n",
       "      <td>0.59931</td>\n",
       "      <td>0.59539</td>\n",
       "      <td>0.43771</td>\n",
       "      <td>0.54767</td>\n",
       "      <td>0.43742</td>\n",
       "      <td>1</td>\n",
       "    </tr>\n",
       "  </tbody>\n",
       "</table>\n",
       "<p>5 rows × 23 columns</p>\n",
       "</div>"
      ],
      "text/plain": [
       "       id  feature1  feature2  feature3  feature4  feature5  feature6  \\\n",
       "0  518647   0.26647   0.42487   0.81401   0.22889   0.27456   0.55654   \n",
       "1  581542   0.41334   0.47533   0.71847   0.40792   0.32433   0.55806   \n",
       "2  630790   0.48937   0.56030   0.59150   0.46432   0.42291   0.54177   \n",
       "3  646251   0.61195   0.65958   0.45877   0.56730   0.51889   0.45049   \n",
       "4  558386   0.43758   0.50085   0.60446   0.46663   0.47157   0.59667   \n",
       "\n",
       "   feature7  feature8  feature9   ...     feature13  feature14  feature15  \\\n",
       "0   0.55310   0.71899   0.20496   ...       0.18847    0.77235    0.55002   \n",
       "1   0.59592   0.51830   0.25778   ...       0.32083    0.72435    0.63751   \n",
       "2   0.53542   0.50577   0.32740   ...       0.42195    0.62651    0.51604   \n",
       "3   0.56030   0.39115   0.33862   ...       0.54803    0.59120    0.58160   \n",
       "4   0.40161   0.56260   0.36587   ...       0.40535    0.54366    0.44763   \n",
       "\n",
       "   feature16  feature17  feature18  feature19  feature20  feature21  cluster  \n",
       "0    0.20237    0.79605    0.82971    0.45757    0.69761    0.53739        3  \n",
       "1    0.29143    0.67860    0.70083    0.59967    0.53103    0.47446        4  \n",
       "2    0.42938    0.56744    0.60008    0.46966    0.50322    0.42803        2  \n",
       "3    0.51828    0.43870    0.47011    0.56007    0.36374    0.31552        0  \n",
       "4    0.37668    0.59931    0.59539    0.43771    0.54767    0.43742        1  \n",
       "\n",
       "[5 rows x 23 columns]"
      ]
     },
     "execution_count": 44,
     "metadata": {},
     "output_type": "execute_result"
    }
   ],
   "source": [
    "x_train.head()"
   ]
  },
  {
   "cell_type": "code",
   "execution_count": 45,
   "metadata": {
    "collapsed": false
   },
   "outputs": [
    {
     "data": {
      "text/plain": [
       "array([ 0.03024762,  0.04213047,  0.02711518,  0.06183945,  0.03339884,\n",
       "        0.06210113,  0.03225232,  0.02819904,  0.07242089,  0.05623961,\n",
       "        0.04406911,  0.06228608,  0.01610526,  0.02784571,  0.05585425,\n",
       "        0.07434064,  0.02556538,  0.03658372,  0.06764198,  0.05956239,\n",
       "        0.08420091])"
      ]
     },
     "execution_count": 45,
     "metadata": {},
     "output_type": "execute_result"
    }
   ],
   "source": [
    "rf.feature_importances_"
   ]
  },
  {
   "cell_type": "code",
   "execution_count": 46,
   "metadata": {
    "collapsed": false
   },
   "outputs": [
    {
     "data": {
      "text/plain": [
       "array([ 0.03024762,  0.04213047,  0.02711518,  0.06183945,  0.03339884,\n",
       "        0.06210113,  0.03225232,  0.02819904,  0.07242089,  0.05623961,\n",
       "        0.04406911,  0.06228608,  0.01610526,  0.02784571,  0.05585425,\n",
       "        0.07434064,  0.02556538,  0.03658372,  0.06764198,  0.05956239,\n",
       "        0.08420091])"
      ]
     },
     "execution_count": 46,
     "metadata": {},
     "output_type": "execute_result"
    }
   ],
   "source": [
    "rf.feature_importances_"
   ]
  },
  {
   "cell_type": "code",
   "execution_count": 47,
   "metadata": {
    "collapsed": false
   },
   "outputs": [
    {
     "data": {
      "text/plain": [
       "(16686, 23)"
      ]
     },
     "execution_count": 47,
     "metadata": {},
     "output_type": "execute_result"
    }
   ],
   "source": [
    "x_val.shape"
   ]
  },
  {
   "cell_type": "code",
   "execution_count": 48,
   "metadata": {
    "collapsed": false
   },
   "outputs": [
    {
     "data": {
      "text/plain": [
       "(27693, 25)"
      ]
     },
     "execution_count": 48,
     "metadata": {},
     "output_type": "execute_result"
    }
   ],
   "source": [
    "test.shape"
   ]
  },
  {
   "cell_type": "code",
   "execution_count": 49,
   "metadata": {
    "collapsed": false
   },
   "outputs": [
    {
     "data": {
      "text/plain": [
       "(1246, 25)"
      ]
     },
     "execution_count": 49,
     "metadata": {},
     "output_type": "execute_result"
    }
   ],
   "source": [
    "live.shape"
   ]
  },
  {
   "cell_type": "code",
   "execution_count": 50,
   "metadata": {
    "collapsed": false
   },
   "outputs": [
    {
     "data": {
      "text/plain": [
       "(45625, 25)"
      ]
     },
     "execution_count": 50,
     "metadata": {},
     "output_type": "execute_result"
    }
   ],
   "source": [
    "to_pred = pd.concat([x_val,test,live])\n",
    "to_pred.shape"
   ]
  },
  {
   "cell_type": "code",
   "execution_count": 59,
   "metadata": {
    "collapsed": false
   },
   "outputs": [],
   "source": [
    "rf_preds = rf.predict_proba(to_pred.drop(['id','cluster', 'class_0','class_1'],axis=1).values)[:,1]"
   ]
  },
  {
   "cell_type": "code",
   "execution_count": 60,
   "metadata": {
    "collapsed": false
   },
   "outputs": [
    {
     "data": {
      "text/html": [
       "<div>\n",
       "<table border=\"1\" class=\"dataframe\">\n",
       "  <thead>\n",
       "    <tr style=\"text-align: right;\">\n",
       "      <th></th>\n",
       "      <th>id</th>\n",
       "      <th>probability</th>\n",
       "    </tr>\n",
       "  </thead>\n",
       "  <tbody>\n",
       "    <tr>\n",
       "      <th>0</th>\n",
       "      <td>535632</td>\n",
       "      <td>0.492988</td>\n",
       "    </tr>\n",
       "    <tr>\n",
       "      <th>1</th>\n",
       "      <td>526056</td>\n",
       "      <td>0.502603</td>\n",
       "    </tr>\n",
       "    <tr>\n",
       "      <th>2</th>\n",
       "      <td>621500</td>\n",
       "      <td>0.485187</td>\n",
       "    </tr>\n",
       "    <tr>\n",
       "      <th>3</th>\n",
       "      <td>561590</td>\n",
       "      <td>0.504112</td>\n",
       "    </tr>\n",
       "    <tr>\n",
       "      <th>4</th>\n",
       "      <td>523587</td>\n",
       "      <td>0.490503</td>\n",
       "    </tr>\n",
       "  </tbody>\n",
       "</table>\n",
       "</div>"
      ],
      "text/plain": [
       "       id  probability\n",
       "0  535632     0.492988\n",
       "1  526056     0.502603\n",
       "2  621500     0.485187\n",
       "3  561590     0.504112\n",
       "4  523587     0.490503"
      ]
     },
     "execution_count": 60,
     "metadata": {},
     "output_type": "execute_result"
    }
   ],
   "source": [
    "sub = pd.concat([to_pred['id'], pd.Series(rf_preds)], axis=1)\n",
    "sub.columns = ['id', 'probability']\n",
    "sub.head()"
   ]
  },
  {
   "cell_type": "code",
   "execution_count": 63,
   "metadata": {
    "collapsed": false
   },
   "outputs": [
    {
     "data": {
      "text/html": [
       "<div>\n",
       "<table border=\"1\" class=\"dataframe\">\n",
       "  <thead>\n",
       "    <tr style=\"text-align: right;\">\n",
       "      <th></th>\n",
       "      <th>id</th>\n",
       "      <th>probability</th>\n",
       "    </tr>\n",
       "  </thead>\n",
       "  <tbody>\n",
       "    <tr>\n",
       "      <th>count</th>\n",
       "      <td>45625.000000</td>\n",
       "      <td>45625.000000</td>\n",
       "    </tr>\n",
       "    <tr>\n",
       "      <th>mean</th>\n",
       "      <td>587661.584285</td>\n",
       "      <td>0.497537</td>\n",
       "    </tr>\n",
       "    <tr>\n",
       "      <th>std</th>\n",
       "      <td>44456.299783</td>\n",
       "      <td>0.008316</td>\n",
       "    </tr>\n",
       "    <tr>\n",
       "      <th>min</th>\n",
       "      <td>511026.000000</td>\n",
       "      <td>0.451311</td>\n",
       "    </tr>\n",
       "    <tr>\n",
       "      <th>25%</th>\n",
       "      <td>549026.000000</td>\n",
       "      <td>0.493415</td>\n",
       "    </tr>\n",
       "    <tr>\n",
       "      <th>50%</th>\n",
       "      <td>587541.000000</td>\n",
       "      <td>0.499085</td>\n",
       "    </tr>\n",
       "    <tr>\n",
       "      <th>75%</th>\n",
       "      <td>625886.000000</td>\n",
       "      <td>0.503164</td>\n",
       "    </tr>\n",
       "    <tr>\n",
       "      <th>max</th>\n",
       "      <td>665047.000000</td>\n",
       "      <td>0.527661</td>\n",
       "    </tr>\n",
       "  </tbody>\n",
       "</table>\n",
       "</div>"
      ],
      "text/plain": [
       "                  id   probability\n",
       "count   45625.000000  45625.000000\n",
       "mean   587661.584285      0.497537\n",
       "std     44456.299783      0.008316\n",
       "min    511026.000000      0.451311\n",
       "25%    549026.000000      0.493415\n",
       "50%    587541.000000      0.499085\n",
       "75%    625886.000000      0.503164\n",
       "max    665047.000000      0.527661"
      ]
     },
     "execution_count": 63,
     "metadata": {},
     "output_type": "execute_result"
    }
   ],
   "source": [
    "sub.describe()"
   ]
  },
  {
   "cell_type": "code",
   "execution_count": 62,
   "metadata": {
    "collapsed": true
   },
   "outputs": [],
   "source": [
    "sub.to_csv('data/sub9_sk_rf.csv', index=False)"
   ]
  },
  {
   "cell_type": "markdown",
   "metadata": {},
   "source": [
    "#### Keras NN Model"
   ]
  },
  {
   "cell_type": "code",
   "execution_count": 220,
   "metadata": {
    "collapsed": false
   },
   "outputs": [
    {
     "data": {
      "text/html": [
       "<div>\n",
       "<table border=\"1\" class=\"dataframe\">\n",
       "  <thead>\n",
       "    <tr style=\"text-align: right;\">\n",
       "      <th></th>\n",
       "      <th>id</th>\n",
       "      <th>feature1</th>\n",
       "      <th>feature2</th>\n",
       "      <th>feature3</th>\n",
       "      <th>feature4</th>\n",
       "      <th>feature5</th>\n",
       "      <th>feature6</th>\n",
       "      <th>feature7</th>\n",
       "      <th>feature8</th>\n",
       "      <th>feature9</th>\n",
       "      <th>...</th>\n",
       "      <th>feature13</th>\n",
       "      <th>feature14</th>\n",
       "      <th>feature15</th>\n",
       "      <th>feature16</th>\n",
       "      <th>feature17</th>\n",
       "      <th>feature18</th>\n",
       "      <th>feature19</th>\n",
       "      <th>feature20</th>\n",
       "      <th>feature21</th>\n",
       "      <th>cluster</th>\n",
       "    </tr>\n",
       "  </thead>\n",
       "  <tbody>\n",
       "    <tr>\n",
       "      <th>0</th>\n",
       "      <td>518647</td>\n",
       "      <td>0.26647</td>\n",
       "      <td>0.42487</td>\n",
       "      <td>0.81401</td>\n",
       "      <td>0.22889</td>\n",
       "      <td>0.27456</td>\n",
       "      <td>0.55654</td>\n",
       "      <td>0.55310</td>\n",
       "      <td>0.71899</td>\n",
       "      <td>0.20496</td>\n",
       "      <td>...</td>\n",
       "      <td>0.18847</td>\n",
       "      <td>0.77235</td>\n",
       "      <td>0.55002</td>\n",
       "      <td>0.20237</td>\n",
       "      <td>0.79605</td>\n",
       "      <td>0.82971</td>\n",
       "      <td>0.45757</td>\n",
       "      <td>0.69761</td>\n",
       "      <td>0.53739</td>\n",
       "      <td>4</td>\n",
       "    </tr>\n",
       "    <tr>\n",
       "      <th>1</th>\n",
       "      <td>581542</td>\n",
       "      <td>0.41334</td>\n",
       "      <td>0.47533</td>\n",
       "      <td>0.71847</td>\n",
       "      <td>0.40792</td>\n",
       "      <td>0.32433</td>\n",
       "      <td>0.55806</td>\n",
       "      <td>0.59592</td>\n",
       "      <td>0.51830</td>\n",
       "      <td>0.25778</td>\n",
       "      <td>...</td>\n",
       "      <td>0.32083</td>\n",
       "      <td>0.72435</td>\n",
       "      <td>0.63751</td>\n",
       "      <td>0.29143</td>\n",
       "      <td>0.67860</td>\n",
       "      <td>0.70083</td>\n",
       "      <td>0.59967</td>\n",
       "      <td>0.53103</td>\n",
       "      <td>0.47446</td>\n",
       "      <td>3</td>\n",
       "    </tr>\n",
       "    <tr>\n",
       "      <th>2</th>\n",
       "      <td>630790</td>\n",
       "      <td>0.48937</td>\n",
       "      <td>0.56030</td>\n",
       "      <td>0.59150</td>\n",
       "      <td>0.46432</td>\n",
       "      <td>0.42291</td>\n",
       "      <td>0.54177</td>\n",
       "      <td>0.53542</td>\n",
       "      <td>0.50577</td>\n",
       "      <td>0.32740</td>\n",
       "      <td>...</td>\n",
       "      <td>0.42195</td>\n",
       "      <td>0.62651</td>\n",
       "      <td>0.51604</td>\n",
       "      <td>0.42938</td>\n",
       "      <td>0.56744</td>\n",
       "      <td>0.60008</td>\n",
       "      <td>0.46966</td>\n",
       "      <td>0.50322</td>\n",
       "      <td>0.42803</td>\n",
       "      <td>0</td>\n",
       "    </tr>\n",
       "    <tr>\n",
       "      <th>3</th>\n",
       "      <td>646251</td>\n",
       "      <td>0.61195</td>\n",
       "      <td>0.65958</td>\n",
       "      <td>0.45877</td>\n",
       "      <td>0.56730</td>\n",
       "      <td>0.51889</td>\n",
       "      <td>0.45049</td>\n",
       "      <td>0.56030</td>\n",
       "      <td>0.39115</td>\n",
       "      <td>0.33862</td>\n",
       "      <td>...</td>\n",
       "      <td>0.54803</td>\n",
       "      <td>0.59120</td>\n",
       "      <td>0.58160</td>\n",
       "      <td>0.51828</td>\n",
       "      <td>0.43870</td>\n",
       "      <td>0.47011</td>\n",
       "      <td>0.56007</td>\n",
       "      <td>0.36374</td>\n",
       "      <td>0.31552</td>\n",
       "      <td>2</td>\n",
       "    </tr>\n",
       "    <tr>\n",
       "      <th>4</th>\n",
       "      <td>558386</td>\n",
       "      <td>0.43758</td>\n",
       "      <td>0.50085</td>\n",
       "      <td>0.60446</td>\n",
       "      <td>0.46663</td>\n",
       "      <td>0.47157</td>\n",
       "      <td>0.59667</td>\n",
       "      <td>0.40161</td>\n",
       "      <td>0.56260</td>\n",
       "      <td>0.36587</td>\n",
       "      <td>...</td>\n",
       "      <td>0.40535</td>\n",
       "      <td>0.54366</td>\n",
       "      <td>0.44763</td>\n",
       "      <td>0.37668</td>\n",
       "      <td>0.59931</td>\n",
       "      <td>0.59539</td>\n",
       "      <td>0.43771</td>\n",
       "      <td>0.54767</td>\n",
       "      <td>0.43742</td>\n",
       "      <td>1</td>\n",
       "    </tr>\n",
       "  </tbody>\n",
       "</table>\n",
       "<p>5 rows × 23 columns</p>\n",
       "</div>"
      ],
      "text/plain": [
       "       id  feature1  feature2  feature3  feature4  feature5  feature6  \\\n",
       "0  518647   0.26647   0.42487   0.81401   0.22889   0.27456   0.55654   \n",
       "1  581542   0.41334   0.47533   0.71847   0.40792   0.32433   0.55806   \n",
       "2  630790   0.48937   0.56030   0.59150   0.46432   0.42291   0.54177   \n",
       "3  646251   0.61195   0.65958   0.45877   0.56730   0.51889   0.45049   \n",
       "4  558386   0.43758   0.50085   0.60446   0.46663   0.47157   0.59667   \n",
       "\n",
       "   feature7  feature8  feature9   ...     feature13  feature14  feature15  \\\n",
       "0   0.55310   0.71899   0.20496   ...       0.18847    0.77235    0.55002   \n",
       "1   0.59592   0.51830   0.25778   ...       0.32083    0.72435    0.63751   \n",
       "2   0.53542   0.50577   0.32740   ...       0.42195    0.62651    0.51604   \n",
       "3   0.56030   0.39115   0.33862   ...       0.54803    0.59120    0.58160   \n",
       "4   0.40161   0.56260   0.36587   ...       0.40535    0.54366    0.44763   \n",
       "\n",
       "   feature16  feature17  feature18  feature19  feature20  feature21  cluster  \n",
       "0    0.20237    0.79605    0.82971    0.45757    0.69761    0.53739        4  \n",
       "1    0.29143    0.67860    0.70083    0.59967    0.53103    0.47446        3  \n",
       "2    0.42938    0.56744    0.60008    0.46966    0.50322    0.42803        0  \n",
       "3    0.51828    0.43870    0.47011    0.56007    0.36374    0.31552        2  \n",
       "4    0.37668    0.59931    0.59539    0.43771    0.54767    0.43742        1  \n",
       "\n",
       "[5 rows x 23 columns]"
      ]
     },
     "execution_count": 220,
     "metadata": {},
     "output_type": "execute_result"
    }
   ],
   "source": [
    "x_train.head()"
   ]
  },
  {
   "cell_type": "code",
   "execution_count": 258,
   "metadata": {
    "collapsed": false
   },
   "outputs": [],
   "source": [
    "yt = y_train[['class_0', 'class_1']].values\n",
    "yv = y_val[['class_0', 'class_1']].values\n",
    "xt = x_train.drop(['id','cluster'],axis=1).values\n",
    "xv = x_val.drop(['id','cluster'],axis=1).values"
   ]
  },
  {
   "cell_type": "code",
   "execution_count": 298,
   "metadata": {
    "collapsed": true
   },
   "outputs": [],
   "source": [
    "def build_nn():\n",
    "    model = Sequential()\n",
    "    \n",
    "    model.add(Dense(256, input_dim=xt.shape[1], activation='relu', init='normal'))\n",
    "    model.add(Dropout(0.25))\n",
    "    \n",
    "    for i in range(0,4):    \n",
    "        model.add(Dense(128, activation='relu', init='normal'))\n",
    "        model.add(Dropout(0.25))\n",
    "    \n",
    "    model.add(Dense(2, activation='softmax'))\n",
    "\n",
    "    model.compile(loss='categorical_crossentropy', optimizer='adam', metrics=['accuracy'])\n",
    "    \n",
    "    return model"
   ]
  },
  {
   "cell_type": "code",
   "execution_count": 299,
   "metadata": {
    "collapsed": true
   },
   "outputs": [],
   "source": [
    "nn = build_nn()"
   ]
  },
  {
   "cell_type": "code",
   "execution_count": 302,
   "metadata": {
    "collapsed": false
   },
   "outputs": [
    {
     "name": "stdout",
     "output_type": "stream",
     "text": [
      "Train on 108405 samples, validate on 16686 samples\n",
      "Epoch 1/10\n",
      "2s - loss: 0.6930 - acc: 0.5052 - val_loss: 0.6929 - val_acc: 0.5099\n",
      "Epoch 2/10\n",
      "2s - loss: 0.6930 - acc: 0.5048 - val_loss: 0.6930 - val_acc: 0.5001\n",
      "Epoch 3/10\n",
      "2s - loss: 0.6930 - acc: 0.5080 - val_loss: 0.6930 - val_acc: 0.5014\n",
      "Epoch 4/10\n",
      "2s - loss: 0.6929 - acc: 0.5100 - val_loss: 0.6927 - val_acc: 0.5137\n",
      "Epoch 5/10\n",
      "2s - loss: 0.6930 - acc: 0.5075 - val_loss: 0.6928 - val_acc: 0.5140\n",
      "Epoch 6/10\n",
      "2s - loss: 0.6930 - acc: 0.5078 - val_loss: 0.6932 - val_acc: 0.4999\n",
      "Epoch 7/10\n",
      "2s - loss: 0.6930 - acc: 0.5080 - val_loss: 0.6928 - val_acc: 0.5125\n",
      "Epoch 8/10\n",
      "2s - loss: 0.6930 - acc: 0.5053 - val_loss: 0.6930 - val_acc: 0.5043\n",
      "Epoch 9/10\n",
      "2s - loss: 0.6930 - acc: 0.5087 - val_loss: 0.6929 - val_acc: 0.5121\n",
      "Epoch 10/10\n",
      "2s - loss: 0.6930 - acc: 0.5083 - val_loss: 0.6931 - val_acc: 0.4981\n"
     ]
    },
    {
     "data": {
      "text/plain": [
       "<keras.callbacks.History at 0x2b3b90af7c10>"
      ]
     },
     "execution_count": 302,
     "metadata": {},
     "output_type": "execute_result"
    }
   ],
   "source": [
    "nn.fit(xt, yt, validation_data=(xv, yv), nb_epoch=10, batch_size=1024, verbose=2)"
   ]
  },
  {
   "cell_type": "code",
   "execution_count": 285,
   "metadata": {
    "collapsed": false
   },
   "outputs": [
    {
     "data": {
      "text/html": [
       "<div>\n",
       "<table border=\"1\" class=\"dataframe\">\n",
       "  <thead>\n",
       "    <tr style=\"text-align: right;\">\n",
       "      <th></th>\n",
       "      <th>class_0</th>\n",
       "      <th>class_1</th>\n",
       "      <th>cluster</th>\n",
       "      <th>feature1</th>\n",
       "      <th>feature10</th>\n",
       "      <th>feature11</th>\n",
       "      <th>feature12</th>\n",
       "      <th>feature13</th>\n",
       "      <th>feature14</th>\n",
       "      <th>feature15</th>\n",
       "      <th>...</th>\n",
       "      <th>feature20</th>\n",
       "      <th>feature21</th>\n",
       "      <th>feature3</th>\n",
       "      <th>feature4</th>\n",
       "      <th>feature5</th>\n",
       "      <th>feature6</th>\n",
       "      <th>feature7</th>\n",
       "      <th>feature8</th>\n",
       "      <th>feature9</th>\n",
       "      <th>id</th>\n",
       "    </tr>\n",
       "  </thead>\n",
       "  <tbody>\n",
       "    <tr>\n",
       "      <th>0</th>\n",
       "      <td>NaN</td>\n",
       "      <td>NaN</td>\n",
       "      <td>4</td>\n",
       "      <td>0.54177</td>\n",
       "      <td>0.59308</td>\n",
       "      <td>0.46092</td>\n",
       "      <td>0.54357</td>\n",
       "      <td>0.46999</td>\n",
       "      <td>0.65848</td>\n",
       "      <td>0.61414</td>\n",
       "      <td>...</td>\n",
       "      <td>0.39919</td>\n",
       "      <td>0.33837</td>\n",
       "      <td>0.54365</td>\n",
       "      <td>0.53625</td>\n",
       "      <td>0.43622</td>\n",
       "      <td>0.49010</td>\n",
       "      <td>0.59626</td>\n",
       "      <td>0.43330</td>\n",
       "      <td>0.28352</td>\n",
       "      <td>535632</td>\n",
       "    </tr>\n",
       "    <tr>\n",
       "      <th>1</th>\n",
       "      <td>NaN</td>\n",
       "      <td>NaN</td>\n",
       "      <td>4</td>\n",
       "      <td>0.46513</td>\n",
       "      <td>0.60046</td>\n",
       "      <td>0.40061</td>\n",
       "      <td>0.49994</td>\n",
       "      <td>0.39465</td>\n",
       "      <td>0.66286</td>\n",
       "      <td>0.58364</td>\n",
       "      <td>...</td>\n",
       "      <td>0.46704</td>\n",
       "      <td>0.37416</td>\n",
       "      <td>0.61386</td>\n",
       "      <td>0.48131</td>\n",
       "      <td>0.39930</td>\n",
       "      <td>0.41525</td>\n",
       "      <td>0.54916</td>\n",
       "      <td>0.50796</td>\n",
       "      <td>0.30968</td>\n",
       "      <td>526056</td>\n",
       "    </tr>\n",
       "    <tr>\n",
       "      <th>2</th>\n",
       "      <td>NaN</td>\n",
       "      <td>NaN</td>\n",
       "      <td>0</td>\n",
       "      <td>0.57906</td>\n",
       "      <td>0.50209</td>\n",
       "      <td>0.44545</td>\n",
       "      <td>0.48268</td>\n",
       "      <td>0.48369</td>\n",
       "      <td>0.63943</td>\n",
       "      <td>0.56807</td>\n",
       "      <td>...</td>\n",
       "      <td>0.43983</td>\n",
       "      <td>0.43469</td>\n",
       "      <td>0.55062</td>\n",
       "      <td>0.50582</td>\n",
       "      <td>0.42531</td>\n",
       "      <td>0.53203</td>\n",
       "      <td>0.61312</td>\n",
       "      <td>0.39767</td>\n",
       "      <td>0.35517</td>\n",
       "      <td>621500</td>\n",
       "    </tr>\n",
       "    <tr>\n",
       "      <th>3</th>\n",
       "      <td>NaN</td>\n",
       "      <td>NaN</td>\n",
       "      <td>1</td>\n",
       "      <td>0.49406</td>\n",
       "      <td>0.58279</td>\n",
       "      <td>0.44185</td>\n",
       "      <td>0.52410</td>\n",
       "      <td>0.43125</td>\n",
       "      <td>0.64981</td>\n",
       "      <td>0.64190</td>\n",
       "      <td>...</td>\n",
       "      <td>0.42992</td>\n",
       "      <td>0.36342</td>\n",
       "      <td>0.59178</td>\n",
       "      <td>0.50592</td>\n",
       "      <td>0.44062</td>\n",
       "      <td>0.54272</td>\n",
       "      <td>0.55000</td>\n",
       "      <td>0.46094</td>\n",
       "      <td>0.26085</td>\n",
       "      <td>561590</td>\n",
       "    </tr>\n",
       "    <tr>\n",
       "      <th>4</th>\n",
       "      <td>NaN</td>\n",
       "      <td>NaN</td>\n",
       "      <td>4</td>\n",
       "      <td>0.59719</td>\n",
       "      <td>0.47754</td>\n",
       "      <td>0.43377</td>\n",
       "      <td>0.43311</td>\n",
       "      <td>0.48639</td>\n",
       "      <td>0.57764</td>\n",
       "      <td>0.45624</td>\n",
       "      <td>...</td>\n",
       "      <td>0.53296</td>\n",
       "      <td>0.55182</td>\n",
       "      <td>0.55065</td>\n",
       "      <td>0.41892</td>\n",
       "      <td>0.45174</td>\n",
       "      <td>0.47165</td>\n",
       "      <td>0.56128</td>\n",
       "      <td>0.41783</td>\n",
       "      <td>0.48816</td>\n",
       "      <td>523587</td>\n",
       "    </tr>\n",
       "  </tbody>\n",
       "</table>\n",
       "<p>5 rows × 25 columns</p>\n",
       "</div>"
      ],
      "text/plain": [
       "   class_0  class_1  cluster  feature1  feature10  feature11  feature12  \\\n",
       "0      NaN      NaN        4   0.54177    0.59308    0.46092    0.54357   \n",
       "1      NaN      NaN        4   0.46513    0.60046    0.40061    0.49994   \n",
       "2      NaN      NaN        0   0.57906    0.50209    0.44545    0.48268   \n",
       "3      NaN      NaN        1   0.49406    0.58279    0.44185    0.52410   \n",
       "4      NaN      NaN        4   0.59719    0.47754    0.43377    0.43311   \n",
       "\n",
       "   feature13  feature14  feature15   ...    feature20  feature21  feature3  \\\n",
       "0    0.46999    0.65848    0.61414   ...      0.39919    0.33837   0.54365   \n",
       "1    0.39465    0.66286    0.58364   ...      0.46704    0.37416   0.61386   \n",
       "2    0.48369    0.63943    0.56807   ...      0.43983    0.43469   0.55062   \n",
       "3    0.43125    0.64981    0.64190   ...      0.42992    0.36342   0.59178   \n",
       "4    0.48639    0.57764    0.45624   ...      0.53296    0.55182   0.55065   \n",
       "\n",
       "   feature4  feature5  feature6  feature7  feature8  feature9      id  \n",
       "0   0.53625   0.43622   0.49010   0.59626   0.43330   0.28352  535632  \n",
       "1   0.48131   0.39930   0.41525   0.54916   0.50796   0.30968  526056  \n",
       "2   0.50582   0.42531   0.53203   0.61312   0.39767   0.35517  621500  \n",
       "3   0.50592   0.44062   0.54272   0.55000   0.46094   0.26085  561590  \n",
       "4   0.41892   0.45174   0.47165   0.56128   0.41783   0.48816  523587  \n",
       "\n",
       "[5 rows x 25 columns]"
      ]
     },
     "execution_count": 285,
     "metadata": {},
     "output_type": "execute_result"
    }
   ],
   "source": [
    "to_pred.head()"
   ]
  },
  {
   "cell_type": "code",
   "execution_count": 286,
   "metadata": {
    "collapsed": true
   },
   "outputs": [],
   "source": [
    "nn_preds = nn.predict(to_pred.drop(['class_0', 'class_1', 'cluster', 'id'], axis=1).values)[:,1]"
   ]
  },
  {
   "cell_type": "code",
   "execution_count": 287,
   "metadata": {
    "collapsed": false
   },
   "outputs": [
    {
     "data": {
      "text/html": [
       "<div>\n",
       "<table border=\"1\" class=\"dataframe\">\n",
       "  <thead>\n",
       "    <tr style=\"text-align: right;\">\n",
       "      <th></th>\n",
       "      <th>id</th>\n",
       "      <th>probability</th>\n",
       "    </tr>\n",
       "  </thead>\n",
       "  <tbody>\n",
       "    <tr>\n",
       "      <th>0</th>\n",
       "      <td>535632</td>\n",
       "      <td>0.501846</td>\n",
       "    </tr>\n",
       "    <tr>\n",
       "      <th>1</th>\n",
       "      <td>526056</td>\n",
       "      <td>0.502337</td>\n",
       "    </tr>\n",
       "    <tr>\n",
       "      <th>2</th>\n",
       "      <td>621500</td>\n",
       "      <td>0.502229</td>\n",
       "    </tr>\n",
       "    <tr>\n",
       "      <th>3</th>\n",
       "      <td>561590</td>\n",
       "      <td>0.502030</td>\n",
       "    </tr>\n",
       "    <tr>\n",
       "      <th>4</th>\n",
       "      <td>523587</td>\n",
       "      <td>0.503714</td>\n",
       "    </tr>\n",
       "  </tbody>\n",
       "</table>\n",
       "</div>"
      ],
      "text/plain": [
       "       id  probability\n",
       "0  535632     0.501846\n",
       "1  526056     0.502337\n",
       "2  621500     0.502229\n",
       "3  561590     0.502030\n",
       "4  523587     0.503714"
      ]
     },
     "execution_count": 287,
     "metadata": {},
     "output_type": "execute_result"
    }
   ],
   "source": [
    "sub = pd.concat([to_pred['id'], pd.Series(nn_preds)], axis=1)\n",
    "sub.columns = ['id', 'probability']\n",
    "sub.head()"
   ]
  },
  {
   "cell_type": "code",
   "execution_count": 288,
   "metadata": {
    "collapsed": false
   },
   "outputs": [
    {
     "data": {
      "text/html": [
       "<div>\n",
       "<table border=\"1\" class=\"dataframe\">\n",
       "  <thead>\n",
       "    <tr style=\"text-align: right;\">\n",
       "      <th></th>\n",
       "      <th>id</th>\n",
       "      <th>probability</th>\n",
       "    </tr>\n",
       "  </thead>\n",
       "  <tbody>\n",
       "    <tr>\n",
       "      <th>count</th>\n",
       "      <td>45625.000000</td>\n",
       "      <td>45625.000000</td>\n",
       "    </tr>\n",
       "    <tr>\n",
       "      <th>mean</th>\n",
       "      <td>587661.584285</td>\n",
       "      <td>0.502893</td>\n",
       "    </tr>\n",
       "    <tr>\n",
       "      <th>std</th>\n",
       "      <td>44456.299783</td>\n",
       "      <td>0.001236</td>\n",
       "    </tr>\n",
       "    <tr>\n",
       "      <th>min</th>\n",
       "      <td>511026.000000</td>\n",
       "      <td>0.499008</td>\n",
       "    </tr>\n",
       "    <tr>\n",
       "      <th>25%</th>\n",
       "      <td>549026.000000</td>\n",
       "      <td>0.502141</td>\n",
       "    </tr>\n",
       "    <tr>\n",
       "      <th>50%</th>\n",
       "      <td>587541.000000</td>\n",
       "      <td>0.502664</td>\n",
       "    </tr>\n",
       "    <tr>\n",
       "      <th>75%</th>\n",
       "      <td>625886.000000</td>\n",
       "      <td>0.503435</td>\n",
       "    </tr>\n",
       "    <tr>\n",
       "      <th>max</th>\n",
       "      <td>665047.000000</td>\n",
       "      <td>0.515456</td>\n",
       "    </tr>\n",
       "  </tbody>\n",
       "</table>\n",
       "</div>"
      ],
      "text/plain": [
       "                  id   probability\n",
       "count   45625.000000  45625.000000\n",
       "mean   587661.584285      0.502893\n",
       "std     44456.299783      0.001236\n",
       "min    511026.000000      0.499008\n",
       "25%    549026.000000      0.502141\n",
       "50%    587541.000000      0.502664\n",
       "75%    625886.000000      0.503435\n",
       "max    665047.000000      0.515456"
      ]
     },
     "execution_count": 288,
     "metadata": {},
     "output_type": "execute_result"
    }
   ],
   "source": [
    "sub.describe()"
   ]
  },
  {
   "cell_type": "code",
   "execution_count": 280,
   "metadata": {
    "collapsed": true
   },
   "outputs": [],
   "source": [
    "sub.to_csv('data/sub7_sk_nn.csv', index=False)"
   ]
  },
  {
   "cell_type": "code",
   "execution_count": 255,
   "metadata": {
    "collapsed": false
   },
   "outputs": [
    {
     "data": {
      "text/html": [
       "<div>\n",
       "<table border=\"1\" class=\"dataframe\">\n",
       "  <thead>\n",
       "    <tr style=\"text-align: right;\">\n",
       "      <th></th>\n",
       "      <th>0</th>\n",
       "      <th>1</th>\n",
       "      <th>probability</th>\n",
       "    </tr>\n",
       "  </thead>\n",
       "  <tbody>\n",
       "    <tr>\n",
       "      <th>0</th>\n",
       "      <td>0.504987</td>\n",
       "      <td>0.563644</td>\n",
       "      <td>0.534316</td>\n",
       "    </tr>\n",
       "    <tr>\n",
       "      <th>1</th>\n",
       "      <td>0.504987</td>\n",
       "      <td>0.517274</td>\n",
       "      <td>0.511131</td>\n",
       "    </tr>\n",
       "    <tr>\n",
       "      <th>2</th>\n",
       "      <td>0.504987</td>\n",
       "      <td>0.504285</td>\n",
       "      <td>0.504636</td>\n",
       "    </tr>\n",
       "    <tr>\n",
       "      <th>3</th>\n",
       "      <td>0.504987</td>\n",
       "      <td>0.503814</td>\n",
       "      <td>0.504401</td>\n",
       "    </tr>\n",
       "    <tr>\n",
       "      <th>4</th>\n",
       "      <td>0.504987</td>\n",
       "      <td>0.500529</td>\n",
       "      <td>0.502758</td>\n",
       "    </tr>\n",
       "  </tbody>\n",
       "</table>\n",
       "</div>"
      ],
      "text/plain": [
       "          0         1  probability\n",
       "0  0.504987  0.563644     0.534316\n",
       "1  0.504987  0.517274     0.511131\n",
       "2  0.504987  0.504285     0.504636\n",
       "3  0.504987  0.503814     0.504401\n",
       "4  0.504987  0.500529     0.502758"
      ]
     },
     "execution_count": 255,
     "metadata": {},
     "output_type": "execute_result"
    }
   ],
   "source": [
    "#ensemble = pd.concat([pd.Series(nn_preds), pd.Series(rf_preds)], axis=1)\n",
    "#ensemble['probability'] = ensemble.mean(axis=1)\n",
    "#ensemble.head()"
   ]
  },
  {
   "cell_type": "code",
   "execution_count": null,
   "metadata": {
    "collapsed": true
   },
   "outputs": [],
   "source": []
  }
 ],
 "metadata": {
  "kernelspec": {
   "display_name": "Python 2",
   "language": "python",
   "name": "python2"
  },
  "language_info": {
   "codemirror_mode": {
    "name": "ipython",
    "version": 2
   },
   "file_extension": ".py",
   "mimetype": "text/x-python",
   "name": "python",
   "nbconvert_exporter": "python",
   "pygments_lexer": "ipython2",
   "version": "2.7.12"
  }
 },
 "nbformat": 4,
 "nbformat_minor": 2
}
